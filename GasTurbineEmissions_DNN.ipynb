{
  "nbformat": 4,
  "nbformat_minor": 0,
  "metadata": {
    "colab": {
      "name": "GasTurbineEmissions-DNN.ipynb",
      "provenance": [],
      "collapsed_sections": [],
      "authorship_tag": "ABX9TyPvOPGtwUatp4rhA1Z2YU7Q",
      "include_colab_link": true
    },
    "kernelspec": {
      "display_name": "Python 3",
      "name": "python3"
    }
  },
  "cells": [
    {
      "cell_type": "markdown",
      "metadata": {
        "id": "view-in-github",
        "colab_type": "text"
      },
      "source": [
        "<a href=\"https://colab.research.google.com/github/MarkLee7925/Gas-Turbine-Emissions/blob/main/GasTurbineEmissions_DNN.ipynb\" target=\"_parent\"><img src=\"https://colab.research.google.com/assets/colab-badge.svg\" alt=\"Open In Colab\"/></a>"
      ]
    },
    {
      "cell_type": "markdown",
      "metadata": {
        "id": "APZVoQmL47I1"
      },
      "source": [
        "# Gas Turbine Emissions - Deep Neural Network"
      ]
    },
    {
      "cell_type": "markdown",
      "metadata": {
        "id": "nNx9hfINDIam"
      },
      "source": [
        "## 1. Import Libraries"
      ]
    },
    {
      "cell_type": "code",
      "metadata": {
        "id": "xuNOzl914e6q"
      },
      "source": [
        "import numpy as np\n",
        "import matplotlib.pyplot as plt\n",
        "import pandas as pd\n",
        "import tensorflow as tf\n",
        "import seaborn as sns"
      ],
      "execution_count": 1,
      "outputs": []
    },
    {
      "cell_type": "markdown",
      "metadata": {
        "id": "dHpMeEh8Z40u"
      },
      "source": [
        "## 2. Load and Summarize Data"
      ]
    },
    {
      "cell_type": "code",
      "metadata": {
        "colab": {
          "base_uri": "https://localhost:8080/"
        },
        "id": "Vs4q7FIt4s8o",
        "outputId": "368e0894-da30-4b86-f69e-c2e0e1d5f636"
      },
      "source": [
        "# Load dataframe (df)\n",
        "df = pd.read_csv('gt_2011-15.csv')\n",
        "df = df[['AT', 'AP', 'AH', 'AFDP', 'GTEP', 'TIT', 'TAT', 'CDP', 'CO',\n",
        "       'NOX', 'TEY']]\n",
        "X, y = df.iloc[:, :-1].values, df.iloc[:, -1].values\n",
        "\n",
        "print(X.shape, y.shape)"
      ],
      "execution_count": 2,
      "outputs": [
        {
          "output_type": "stream",
          "text": [
            "(36733, 10) (36733,)\n"
          ],
          "name": "stdout"
        }
      ]
    },
    {
      "cell_type": "code",
      "metadata": {
        "colab": {
          "base_uri": "https://localhost:8080/",
          "height": 419
        },
        "id": "Y40bdlo6LmXA",
        "outputId": "fca278ee-f725-4a3b-e331-3e6bb57e27d0"
      },
      "source": [
        "df"
      ],
      "execution_count": 3,
      "outputs": [
        {
          "output_type": "execute_result",
          "data": {
            "text/html": [
              "<div>\n",
              "<style scoped>\n",
              "    .dataframe tbody tr th:only-of-type {\n",
              "        vertical-align: middle;\n",
              "    }\n",
              "\n",
              "    .dataframe tbody tr th {\n",
              "        vertical-align: top;\n",
              "    }\n",
              "\n",
              "    .dataframe thead th {\n",
              "        text-align: right;\n",
              "    }\n",
              "</style>\n",
              "<table border=\"1\" class=\"dataframe\">\n",
              "  <thead>\n",
              "    <tr style=\"text-align: right;\">\n",
              "      <th></th>\n",
              "      <th>AT</th>\n",
              "      <th>AP</th>\n",
              "      <th>AH</th>\n",
              "      <th>AFDP</th>\n",
              "      <th>GTEP</th>\n",
              "      <th>TIT</th>\n",
              "      <th>TAT</th>\n",
              "      <th>CDP</th>\n",
              "      <th>CO</th>\n",
              "      <th>NOX</th>\n",
              "      <th>TEY</th>\n",
              "    </tr>\n",
              "  </thead>\n",
              "  <tbody>\n",
              "    <tr>\n",
              "      <th>0</th>\n",
              "      <td>4.5878</td>\n",
              "      <td>1018.7</td>\n",
              "      <td>83.675</td>\n",
              "      <td>3.5758</td>\n",
              "      <td>23.979</td>\n",
              "      <td>1086.2</td>\n",
              "      <td>549.83</td>\n",
              "      <td>11.898</td>\n",
              "      <td>0.32663</td>\n",
              "      <td>81.952</td>\n",
              "      <td>134.67</td>\n",
              "    </tr>\n",
              "    <tr>\n",
              "      <th>1</th>\n",
              "      <td>4.2932</td>\n",
              "      <td>1018.3</td>\n",
              "      <td>84.235</td>\n",
              "      <td>3.5709</td>\n",
              "      <td>23.951</td>\n",
              "      <td>1086.1</td>\n",
              "      <td>550.05</td>\n",
              "      <td>11.892</td>\n",
              "      <td>0.44784</td>\n",
              "      <td>82.377</td>\n",
              "      <td>134.67</td>\n",
              "    </tr>\n",
              "    <tr>\n",
              "      <th>2</th>\n",
              "      <td>3.9045</td>\n",
              "      <td>1018.4</td>\n",
              "      <td>84.858</td>\n",
              "      <td>3.5828</td>\n",
              "      <td>23.990</td>\n",
              "      <td>1086.5</td>\n",
              "      <td>550.19</td>\n",
              "      <td>12.042</td>\n",
              "      <td>0.45144</td>\n",
              "      <td>83.776</td>\n",
              "      <td>135.10</td>\n",
              "    </tr>\n",
              "    <tr>\n",
              "      <th>3</th>\n",
              "      <td>3.7436</td>\n",
              "      <td>1018.3</td>\n",
              "      <td>85.434</td>\n",
              "      <td>3.5808</td>\n",
              "      <td>23.911</td>\n",
              "      <td>1086.5</td>\n",
              "      <td>550.17</td>\n",
              "      <td>11.990</td>\n",
              "      <td>0.23107</td>\n",
              "      <td>82.505</td>\n",
              "      <td>135.03</td>\n",
              "    </tr>\n",
              "    <tr>\n",
              "      <th>4</th>\n",
              "      <td>3.7516</td>\n",
              "      <td>1017.8</td>\n",
              "      <td>85.182</td>\n",
              "      <td>3.5781</td>\n",
              "      <td>23.917</td>\n",
              "      <td>1085.9</td>\n",
              "      <td>550.00</td>\n",
              "      <td>11.910</td>\n",
              "      <td>0.26747</td>\n",
              "      <td>82.028</td>\n",
              "      <td>134.67</td>\n",
              "    </tr>\n",
              "    <tr>\n",
              "      <th>...</th>\n",
              "      <td>...</td>\n",
              "      <td>...</td>\n",
              "      <td>...</td>\n",
              "      <td>...</td>\n",
              "      <td>...</td>\n",
              "      <td>...</td>\n",
              "      <td>...</td>\n",
              "      <td>...</td>\n",
              "      <td>...</td>\n",
              "      <td>...</td>\n",
              "      <td>...</td>\n",
              "    </tr>\n",
              "    <tr>\n",
              "      <th>36728</th>\n",
              "      <td>3.6268</td>\n",
              "      <td>1028.5</td>\n",
              "      <td>93.200</td>\n",
              "      <td>3.1661</td>\n",
              "      <td>19.087</td>\n",
              "      <td>1037.0</td>\n",
              "      <td>541.59</td>\n",
              "      <td>10.411</td>\n",
              "      <td>10.99300</td>\n",
              "      <td>89.172</td>\n",
              "      <td>109.08</td>\n",
              "    </tr>\n",
              "    <tr>\n",
              "      <th>36729</th>\n",
              "      <td>4.1674</td>\n",
              "      <td>1028.6</td>\n",
              "      <td>94.036</td>\n",
              "      <td>3.1923</td>\n",
              "      <td>19.016</td>\n",
              "      <td>1037.6</td>\n",
              "      <td>542.28</td>\n",
              "      <td>10.344</td>\n",
              "      <td>11.14400</td>\n",
              "      <td>88.849</td>\n",
              "      <td>108.79</td>\n",
              "    </tr>\n",
              "    <tr>\n",
              "      <th>36730</th>\n",
              "      <td>5.4820</td>\n",
              "      <td>1028.5</td>\n",
              "      <td>95.219</td>\n",
              "      <td>3.3128</td>\n",
              "      <td>18.857</td>\n",
              "      <td>1038.0</td>\n",
              "      <td>543.48</td>\n",
              "      <td>10.462</td>\n",
              "      <td>11.41400</td>\n",
              "      <td>96.147</td>\n",
              "      <td>107.81</td>\n",
              "    </tr>\n",
              "    <tr>\n",
              "      <th>36731</th>\n",
              "      <td>5.8837</td>\n",
              "      <td>1028.7</td>\n",
              "      <td>94.200</td>\n",
              "      <td>3.9831</td>\n",
              "      <td>23.563</td>\n",
              "      <td>1076.9</td>\n",
              "      <td>550.11</td>\n",
              "      <td>11.771</td>\n",
              "      <td>3.31340</td>\n",
              "      <td>64.738</td>\n",
              "      <td>131.41</td>\n",
              "    </tr>\n",
              "    <tr>\n",
              "      <th>36732</th>\n",
              "      <td>6.0392</td>\n",
              "      <td>1028.8</td>\n",
              "      <td>94.547</td>\n",
              "      <td>3.8752</td>\n",
              "      <td>22.524</td>\n",
              "      <td>1067.9</td>\n",
              "      <td>548.23</td>\n",
              "      <td>11.462</td>\n",
              "      <td>11.98100</td>\n",
              "      <td>109.240</td>\n",
              "      <td>125.41</td>\n",
              "    </tr>\n",
              "  </tbody>\n",
              "</table>\n",
              "<p>36733 rows × 11 columns</p>\n",
              "</div>"
            ],
            "text/plain": [
              "           AT      AP      AH    AFDP  ...     CDP        CO      NOX     TEY\n",
              "0      4.5878  1018.7  83.675  3.5758  ...  11.898   0.32663   81.952  134.67\n",
              "1      4.2932  1018.3  84.235  3.5709  ...  11.892   0.44784   82.377  134.67\n",
              "2      3.9045  1018.4  84.858  3.5828  ...  12.042   0.45144   83.776  135.10\n",
              "3      3.7436  1018.3  85.434  3.5808  ...  11.990   0.23107   82.505  135.03\n",
              "4      3.7516  1017.8  85.182  3.5781  ...  11.910   0.26747   82.028  134.67\n",
              "...       ...     ...     ...     ...  ...     ...       ...      ...     ...\n",
              "36728  3.6268  1028.5  93.200  3.1661  ...  10.411  10.99300   89.172  109.08\n",
              "36729  4.1674  1028.6  94.036  3.1923  ...  10.344  11.14400   88.849  108.79\n",
              "36730  5.4820  1028.5  95.219  3.3128  ...  10.462  11.41400   96.147  107.81\n",
              "36731  5.8837  1028.7  94.200  3.9831  ...  11.771   3.31340   64.738  131.41\n",
              "36732  6.0392  1028.8  94.547  3.8752  ...  11.462  11.98100  109.240  125.41\n",
              "\n",
              "[36733 rows x 11 columns]"
            ]
          },
          "metadata": {
            "tags": []
          },
          "execution_count": 3
        }
      ]
    },
    {
      "cell_type": "code",
      "metadata": {
        "colab": {
          "base_uri": "https://localhost:8080/"
        },
        "id": "RUXT12RH4xJs",
        "outputId": "a8015fc2-62a6-4c21-b805-af8c638fc88c"
      },
      "source": [
        "df.info()"
      ],
      "execution_count": 4,
      "outputs": [
        {
          "output_type": "stream",
          "text": [
            "<class 'pandas.core.frame.DataFrame'>\n",
            "RangeIndex: 36733 entries, 0 to 36732\n",
            "Data columns (total 11 columns):\n",
            " #   Column  Non-Null Count  Dtype  \n",
            "---  ------  --------------  -----  \n",
            " 0   AT      36733 non-null  float64\n",
            " 1   AP      36733 non-null  float64\n",
            " 2   AH      36733 non-null  float64\n",
            " 3   AFDP    36733 non-null  float64\n",
            " 4   GTEP    36733 non-null  float64\n",
            " 5   TIT     36733 non-null  float64\n",
            " 6   TAT     36733 non-null  float64\n",
            " 7   CDP     36733 non-null  float64\n",
            " 8   CO      36733 non-null  float64\n",
            " 9   NOX     36733 non-null  float64\n",
            " 10  TEY     36733 non-null  float64\n",
            "dtypes: float64(11)\n",
            "memory usage: 3.1 MB\n"
          ],
          "name": "stdout"
        }
      ]
    },
    {
      "cell_type": "code",
      "metadata": {
        "colab": {
          "base_uri": "https://localhost:8080/",
          "height": 317
        },
        "id": "ey97ULPW4yvY",
        "outputId": "19249b70-c9f5-4a03-e851-e18a6abe277e"
      },
      "source": [
        "df.describe()"
      ],
      "execution_count": 5,
      "outputs": [
        {
          "output_type": "execute_result",
          "data": {
            "text/html": [
              "<div>\n",
              "<style scoped>\n",
              "    .dataframe tbody tr th:only-of-type {\n",
              "        vertical-align: middle;\n",
              "    }\n",
              "\n",
              "    .dataframe tbody tr th {\n",
              "        vertical-align: top;\n",
              "    }\n",
              "\n",
              "    .dataframe thead th {\n",
              "        text-align: right;\n",
              "    }\n",
              "</style>\n",
              "<table border=\"1\" class=\"dataframe\">\n",
              "  <thead>\n",
              "    <tr style=\"text-align: right;\">\n",
              "      <th></th>\n",
              "      <th>AT</th>\n",
              "      <th>AP</th>\n",
              "      <th>AH</th>\n",
              "      <th>AFDP</th>\n",
              "      <th>GTEP</th>\n",
              "      <th>TIT</th>\n",
              "      <th>TAT</th>\n",
              "      <th>CDP</th>\n",
              "      <th>CO</th>\n",
              "      <th>NOX</th>\n",
              "      <th>TEY</th>\n",
              "    </tr>\n",
              "  </thead>\n",
              "  <tbody>\n",
              "    <tr>\n",
              "      <th>count</th>\n",
              "      <td>36733.000000</td>\n",
              "      <td>36733.000000</td>\n",
              "      <td>36733.000000</td>\n",
              "      <td>36733.000000</td>\n",
              "      <td>36733.000000</td>\n",
              "      <td>36733.000000</td>\n",
              "      <td>36733.000000</td>\n",
              "      <td>36733.000000</td>\n",
              "      <td>36733.000000</td>\n",
              "      <td>36733.000000</td>\n",
              "      <td>36733.000000</td>\n",
              "    </tr>\n",
              "    <tr>\n",
              "      <th>mean</th>\n",
              "      <td>17.712726</td>\n",
              "      <td>1013.070165</td>\n",
              "      <td>77.867015</td>\n",
              "      <td>3.925518</td>\n",
              "      <td>25.563801</td>\n",
              "      <td>1081.428084</td>\n",
              "      <td>546.158517</td>\n",
              "      <td>12.060525</td>\n",
              "      <td>2.372468</td>\n",
              "      <td>65.293067</td>\n",
              "      <td>133.506404</td>\n",
              "    </tr>\n",
              "    <tr>\n",
              "      <th>std</th>\n",
              "      <td>7.447451</td>\n",
              "      <td>6.463346</td>\n",
              "      <td>14.461355</td>\n",
              "      <td>0.773936</td>\n",
              "      <td>4.195957</td>\n",
              "      <td>17.536373</td>\n",
              "      <td>6.842360</td>\n",
              "      <td>1.088795</td>\n",
              "      <td>2.262672</td>\n",
              "      <td>11.678357</td>\n",
              "      <td>15.618634</td>\n",
              "    </tr>\n",
              "    <tr>\n",
              "      <th>min</th>\n",
              "      <td>-6.234800</td>\n",
              "      <td>985.850000</td>\n",
              "      <td>24.085000</td>\n",
              "      <td>2.087400</td>\n",
              "      <td>17.698000</td>\n",
              "      <td>1000.800000</td>\n",
              "      <td>511.040000</td>\n",
              "      <td>9.851800</td>\n",
              "      <td>0.000388</td>\n",
              "      <td>25.905000</td>\n",
              "      <td>100.020000</td>\n",
              "    </tr>\n",
              "    <tr>\n",
              "      <th>25%</th>\n",
              "      <td>11.781000</td>\n",
              "      <td>1008.800000</td>\n",
              "      <td>68.188000</td>\n",
              "      <td>3.355600</td>\n",
              "      <td>23.129000</td>\n",
              "      <td>1071.800000</td>\n",
              "      <td>544.720000</td>\n",
              "      <td>11.435000</td>\n",
              "      <td>1.182400</td>\n",
              "      <td>57.162000</td>\n",
              "      <td>124.450000</td>\n",
              "    </tr>\n",
              "    <tr>\n",
              "      <th>50%</th>\n",
              "      <td>17.801000</td>\n",
              "      <td>1012.600000</td>\n",
              "      <td>80.470000</td>\n",
              "      <td>3.937700</td>\n",
              "      <td>25.104000</td>\n",
              "      <td>1085.900000</td>\n",
              "      <td>549.880000</td>\n",
              "      <td>11.965000</td>\n",
              "      <td>1.713500</td>\n",
              "      <td>63.849000</td>\n",
              "      <td>133.730000</td>\n",
              "    </tr>\n",
              "    <tr>\n",
              "      <th>75%</th>\n",
              "      <td>23.665000</td>\n",
              "      <td>1017.000000</td>\n",
              "      <td>89.376000</td>\n",
              "      <td>4.376900</td>\n",
              "      <td>29.061000</td>\n",
              "      <td>1097.000000</td>\n",
              "      <td>550.040000</td>\n",
              "      <td>12.855000</td>\n",
              "      <td>2.842900</td>\n",
              "      <td>71.548000</td>\n",
              "      <td>144.080000</td>\n",
              "    </tr>\n",
              "    <tr>\n",
              "      <th>max</th>\n",
              "      <td>37.103000</td>\n",
              "      <td>1036.600000</td>\n",
              "      <td>100.200000</td>\n",
              "      <td>7.610600</td>\n",
              "      <td>40.716000</td>\n",
              "      <td>1100.900000</td>\n",
              "      <td>550.610000</td>\n",
              "      <td>15.159000</td>\n",
              "      <td>44.103000</td>\n",
              "      <td>119.910000</td>\n",
              "      <td>179.500000</td>\n",
              "    </tr>\n",
              "  </tbody>\n",
              "</table>\n",
              "</div>"
            ],
            "text/plain": [
              "                 AT            AP  ...           NOX           TEY\n",
              "count  36733.000000  36733.000000  ...  36733.000000  36733.000000\n",
              "mean      17.712726   1013.070165  ...     65.293067    133.506404\n",
              "std        7.447451      6.463346  ...     11.678357     15.618634\n",
              "min       -6.234800    985.850000  ...     25.905000    100.020000\n",
              "25%       11.781000   1008.800000  ...     57.162000    124.450000\n",
              "50%       17.801000   1012.600000  ...     63.849000    133.730000\n",
              "75%       23.665000   1017.000000  ...     71.548000    144.080000\n",
              "max       37.103000   1036.600000  ...    119.910000    179.500000\n",
              "\n",
              "[8 rows x 11 columns]"
            ]
          },
          "metadata": {
            "tags": []
          },
          "execution_count": 5
        }
      ]
    },
    {
      "cell_type": "code",
      "metadata": {
        "colab": {
          "base_uri": "https://localhost:8080/"
        },
        "id": "0USxoxCsmgVM",
        "outputId": "e8e7acbc-a1c7-45ed-de3e-61d9d6be477b"
      },
      "source": [
        "# Check for missing values\n",
        "df.isnull().sum()"
      ],
      "execution_count": 6,
      "outputs": [
        {
          "output_type": "execute_result",
          "data": {
            "text/plain": [
              "AT      0\n",
              "AP      0\n",
              "AH      0\n",
              "AFDP    0\n",
              "GTEP    0\n",
              "TIT     0\n",
              "TAT     0\n",
              "CDP     0\n",
              "CO      0\n",
              "NOX     0\n",
              "TEY     0\n",
              "dtype: int64"
            ]
          },
          "metadata": {
            "tags": []
          },
          "execution_count": 6
        }
      ]
    },
    {
      "cell_type": "markdown",
      "metadata": {
        "id": "91jMLTuvaU_Q"
      },
      "source": [
        "## 3. Data Preprocessing and Feature Engineering"
      ]
    },
    {
      "cell_type": "code",
      "metadata": {
        "id": "HVDtA_UylPEp"
      },
      "source": [
        "# Split dataframe (df) into training and test sets\n",
        "from sklearn.model_selection import train_test_split\n",
        "\n",
        "X_train, X_test, y_train, y_test = train_test_split(X, y, test_size=0.2, \n",
        "                                                    random_state=0)"
      ],
      "execution_count": 7,
      "outputs": []
    },
    {
      "cell_type": "code",
      "metadata": {
        "id": "buM5XRz9lS3n"
      },
      "source": [
        "# Feature scaling\n",
        "from sklearn.preprocessing import StandardScaler\n",
        "\n",
        "sc = StandardScaler()\n",
        "X_train = sc.fit_transform(X_train)\n",
        "X_test = sc.fit_transform(X_test)"
      ],
      "execution_count": 8,
      "outputs": []
    },
    {
      "cell_type": "markdown",
      "metadata": {
        "id": "wSYVbECkakwm"
      },
      "source": [
        "## 4. Define DNN Model"
      ]
    },
    {
      "cell_type": "code",
      "metadata": {
        "id": "f0TXcf2dklHZ"
      },
      "source": [
        "from tensorflow.keras.models import Sequential\n",
        "from tensorflow.keras.layers import Dense, Dropout\n",
        "\n",
        "# Additional Libraries\n",
        "from sklearn.metrics import mean_absolute_error, mean_squared_error, r2_score\n",
        "from sklearn.model_selection import cross_val_score, RepeatedKFold, StratifiedKFold\n",
        "from sklearn.model_selection import GridSearchCV, RandomizedSearchCV"
      ],
      "execution_count": 9,
      "outputs": []
    },
    {
      "cell_type": "code",
      "metadata": {
        "colab": {
          "base_uri": "https://localhost:8080/",
          "height": 1000
        },
        "id": "s_cX-xjYpQlB",
        "outputId": "1be94908-286e-49c6-f686-3eadf13b8ff4"
      },
      "source": [
        "# Define model\n",
        "reg = Sequential()\n",
        "\n",
        "# Add layers\n",
        "reg.add(Dense(units=60, activation='relu', input_dim=X.shape[1]))\n",
        "reg.add(Dense(units=50, activation='relu'))\n",
        "reg.add(Dropout(0.00015))\n",
        "\n",
        "# reg.add(Dense(units=50, activation='relu'))\n",
        "# reg.add(Dropout(0.0002))\n",
        "\n",
        "reg.add(Dense(units=1))\n",
        "\n",
        "# Compile model\n",
        "reg.compile(optimizer='adam', loss='mse')\n",
        "\n",
        "# Summarize model\n",
        "reg.summary()\n",
        "\n",
        "# Train model\n",
        "history = reg.fit(X_train, y_train, batch_size=32, epochs=100, \n",
        "                  validation_data=(X_test, y_test))\n",
        "\n",
        "# Plot loss during training\n",
        "plt.plot(history.history['loss'], 'g', label='train')\n",
        "plt.plot(history.history['val_loss'], 'b', label='test')\n",
        "plt.title('Training and Validation Loss')\n",
        "plt.xlabel('Epochs')\n",
        "plt.ylabel('MSE')\n",
        "plt.legend()\n",
        "plt.grid()\n",
        "plt.show()"
      ],
      "execution_count": 22,
      "outputs": [
        {
          "output_type": "stream",
          "text": [
            "Model: \"sequential_4\"\n",
            "_________________________________________________________________\n",
            "Layer (type)                 Output Shape              Param #   \n",
            "=================================================================\n",
            "dense_12 (Dense)             (None, 60)                660       \n",
            "_________________________________________________________________\n",
            "dense_13 (Dense)             (None, 50)                3050      \n",
            "_________________________________________________________________\n",
            "dropout_4 (Dropout)          (None, 50)                0         \n",
            "_________________________________________________________________\n",
            "dense_14 (Dense)             (None, 1)                 51        \n",
            "=================================================================\n",
            "Total params: 3,761\n",
            "Trainable params: 3,761\n",
            "Non-trainable params: 0\n",
            "_________________________________________________________________\n",
            "Epoch 1/100\n",
            "919/919 [==============================] - 1s 1ms/step - loss: 2853.2888 - val_loss: 156.6743\n",
            "Epoch 2/100\n",
            "919/919 [==============================] - 1s 1ms/step - loss: 99.8785 - val_loss: 62.5081\n",
            "Epoch 3/100\n",
            "919/919 [==============================] - 1s 1ms/step - loss: 38.6950 - val_loss: 20.7815\n",
            "Epoch 4/100\n",
            "919/919 [==============================] - 1s 1ms/step - loss: 12.0823 - val_loss: 5.9747\n",
            "Epoch 5/100\n",
            "919/919 [==============================] - 1s 1ms/step - loss: 4.1500 - val_loss: 2.4653\n",
            "Epoch 6/100\n",
            "919/919 [==============================] - 1s 1ms/step - loss: 2.0465 - val_loss: 1.3855\n",
            "Epoch 7/100\n",
            "919/919 [==============================] - 1s 1ms/step - loss: 1.3644 - val_loss: 1.1181\n",
            "Epoch 8/100\n",
            "919/919 [==============================] - 1s 1ms/step - loss: 1.1721 - val_loss: 1.0654\n",
            "Epoch 9/100\n",
            "919/919 [==============================] - 1s 1ms/step - loss: 1.0999 - val_loss: 1.2362\n",
            "Epoch 10/100\n",
            "919/919 [==============================] - 1s 1ms/step - loss: 1.0169 - val_loss: 1.1370\n",
            "Epoch 11/100\n",
            "919/919 [==============================] - 1s 1ms/step - loss: 1.0224 - val_loss: 1.1440\n",
            "Epoch 12/100\n",
            "919/919 [==============================] - 1s 1ms/step - loss: 0.9744 - val_loss: 0.6892\n",
            "Epoch 13/100\n",
            "919/919 [==============================] - 1s 1ms/step - loss: 0.8696 - val_loss: 0.7030\n",
            "Epoch 14/100\n",
            "919/919 [==============================] - 1s 1ms/step - loss: 0.9073 - val_loss: 0.9709\n",
            "Epoch 15/100\n",
            "919/919 [==============================] - 1s 1ms/step - loss: 0.8776 - val_loss: 1.0472\n",
            "Epoch 16/100\n",
            "919/919 [==============================] - 1s 1ms/step - loss: 0.8468 - val_loss: 0.6582\n",
            "Epoch 17/100\n",
            "919/919 [==============================] - 1s 1ms/step - loss: 0.8196 - val_loss: 0.5938\n",
            "Epoch 18/100\n",
            "919/919 [==============================] - 1s 1ms/step - loss: 0.8034 - val_loss: 0.8478\n",
            "Epoch 19/100\n",
            "919/919 [==============================] - 1s 1ms/step - loss: 0.8539 - val_loss: 0.8518\n",
            "Epoch 20/100\n",
            "919/919 [==============================] - 1s 1ms/step - loss: 0.7951 - val_loss: 0.8571\n",
            "Epoch 21/100\n",
            "919/919 [==============================] - 1s 1ms/step - loss: 0.8072 - val_loss: 0.6354\n",
            "Epoch 22/100\n",
            "919/919 [==============================] - 1s 1ms/step - loss: 0.7999 - val_loss: 0.9687\n",
            "Epoch 23/100\n",
            "919/919 [==============================] - 1s 1ms/step - loss: 0.7930 - val_loss: 0.6408\n",
            "Epoch 24/100\n",
            "919/919 [==============================] - 1s 1ms/step - loss: 0.7810 - val_loss: 0.5806\n",
            "Epoch 25/100\n",
            "919/919 [==============================] - 1s 1ms/step - loss: 0.7912 - val_loss: 0.6470\n",
            "Epoch 26/100\n",
            "919/919 [==============================] - 1s 1ms/step - loss: 0.7615 - val_loss: 0.5582\n",
            "Epoch 27/100\n",
            "919/919 [==============================] - 1s 1ms/step - loss: 0.7299 - val_loss: 1.3602\n",
            "Epoch 28/100\n",
            "919/919 [==============================] - 1s 1ms/step - loss: 0.7536 - val_loss: 0.7840\n",
            "Epoch 29/100\n",
            "919/919 [==============================] - 1s 1ms/step - loss: 0.6808 - val_loss: 0.7562\n",
            "Epoch 30/100\n",
            "919/919 [==============================] - 1s 1ms/step - loss: 0.7692 - val_loss: 0.8250\n",
            "Epoch 31/100\n",
            "919/919 [==============================] - 1s 1ms/step - loss: 0.7647 - val_loss: 0.7457\n",
            "Epoch 32/100\n",
            "919/919 [==============================] - 1s 1ms/step - loss: 0.7158 - val_loss: 0.7711\n",
            "Epoch 33/100\n",
            "919/919 [==============================] - 1s 1ms/step - loss: 0.7397 - val_loss: 0.5163\n",
            "Epoch 34/100\n",
            "919/919 [==============================] - 1s 1ms/step - loss: 0.7122 - val_loss: 0.7555\n",
            "Epoch 35/100\n",
            "919/919 [==============================] - 1s 1ms/step - loss: 0.7459 - val_loss: 0.7792\n",
            "Epoch 36/100\n",
            "919/919 [==============================] - 1s 1ms/step - loss: 0.7174 - val_loss: 0.5771\n",
            "Epoch 37/100\n",
            "919/919 [==============================] - 1s 1ms/step - loss: 0.7479 - val_loss: 0.9914\n",
            "Epoch 38/100\n",
            "919/919 [==============================] - 1s 1ms/step - loss: 0.7427 - val_loss: 0.8853\n",
            "Epoch 39/100\n",
            "919/919 [==============================] - 1s 1ms/step - loss: 0.7217 - val_loss: 0.5814\n",
            "Epoch 40/100\n",
            "919/919 [==============================] - 1s 1ms/step - loss: 0.7055 - val_loss: 0.8448\n",
            "Epoch 41/100\n",
            "919/919 [==============================] - 1s 1ms/step - loss: 0.7125 - val_loss: 0.7223\n",
            "Epoch 42/100\n",
            "919/919 [==============================] - 1s 1ms/step - loss: 0.7475 - val_loss: 0.5476\n",
            "Epoch 43/100\n",
            "919/919 [==============================] - 1s 1ms/step - loss: 0.7027 - val_loss: 0.6677\n",
            "Epoch 44/100\n",
            "919/919 [==============================] - 1s 1ms/step - loss: 0.6955 - val_loss: 0.5041\n",
            "Epoch 45/100\n",
            "919/919 [==============================] - 1s 1ms/step - loss: 0.7001 - val_loss: 0.7744\n",
            "Epoch 46/100\n",
            "919/919 [==============================] - 1s 1ms/step - loss: 0.7168 - val_loss: 0.6185\n",
            "Epoch 47/100\n",
            "919/919 [==============================] - 1s 1ms/step - loss: 0.6826 - val_loss: 0.7559\n",
            "Epoch 48/100\n",
            "919/919 [==============================] - 1s 1ms/step - loss: 0.6629 - val_loss: 0.7033\n",
            "Epoch 49/100\n",
            "919/919 [==============================] - 1s 1ms/step - loss: 0.6585 - val_loss: 0.7764\n",
            "Epoch 50/100\n",
            "919/919 [==============================] - 1s 1ms/step - loss: 0.6921 - val_loss: 0.5792\n",
            "Epoch 51/100\n",
            "919/919 [==============================] - 1s 1ms/step - loss: 0.7110 - val_loss: 0.5817\n",
            "Epoch 52/100\n",
            "919/919 [==============================] - 1s 1ms/step - loss: 0.6760 - val_loss: 0.5905\n",
            "Epoch 53/100\n",
            "919/919 [==============================] - 1s 1ms/step - loss: 0.6901 - val_loss: 0.5546\n",
            "Epoch 54/100\n",
            "919/919 [==============================] - 1s 1ms/step - loss: 0.6400 - val_loss: 0.8514\n",
            "Epoch 55/100\n",
            "919/919 [==============================] - 1s 1ms/step - loss: 0.6744 - val_loss: 0.7989\n",
            "Epoch 56/100\n",
            "919/919 [==============================] - 1s 1ms/step - loss: 0.6456 - val_loss: 0.7750\n",
            "Epoch 57/100\n",
            "919/919 [==============================] - 1s 1ms/step - loss: 0.6567 - val_loss: 0.7520\n",
            "Epoch 58/100\n",
            "919/919 [==============================] - 1s 1ms/step - loss: 0.6596 - val_loss: 0.4545\n",
            "Epoch 59/100\n",
            "919/919 [==============================] - 1s 1ms/step - loss: 0.6560 - val_loss: 0.4609\n",
            "Epoch 60/100\n",
            "919/919 [==============================] - 1s 1ms/step - loss: 0.6584 - val_loss: 0.5494\n",
            "Epoch 61/100\n",
            "919/919 [==============================] - 1s 1ms/step - loss: 0.6439 - val_loss: 1.0636\n",
            "Epoch 62/100\n",
            "919/919 [==============================] - 1s 1ms/step - loss: 0.6709 - val_loss: 0.9105\n",
            "Epoch 63/100\n",
            "919/919 [==============================] - 1s 1ms/step - loss: 0.6401 - val_loss: 0.7747\n",
            "Epoch 64/100\n",
            "919/919 [==============================] - 1s 1ms/step - loss: 0.6451 - val_loss: 0.6642\n",
            "Epoch 65/100\n",
            "919/919 [==============================] - 1s 1ms/step - loss: 0.6422 - val_loss: 0.6101\n",
            "Epoch 66/100\n",
            "919/919 [==============================] - 1s 1ms/step - loss: 0.6439 - val_loss: 0.5113\n",
            "Epoch 67/100\n",
            "919/919 [==============================] - 1s 1ms/step - loss: 0.6545 - val_loss: 0.5087\n",
            "Epoch 68/100\n",
            "919/919 [==============================] - 1s 1ms/step - loss: 0.6208 - val_loss: 0.5058\n",
            "Epoch 69/100\n",
            "919/919 [==============================] - 1s 1ms/step - loss: 0.6057 - val_loss: 0.5377\n",
            "Epoch 70/100\n",
            "919/919 [==============================] - 1s 1ms/step - loss: 0.6286 - val_loss: 0.5134\n",
            "Epoch 71/100\n",
            "919/919 [==============================] - 1s 1ms/step - loss: 0.6242 - val_loss: 0.6305\n",
            "Epoch 72/100\n",
            "919/919 [==============================] - 1s 1ms/step - loss: 0.6217 - val_loss: 0.5816\n",
            "Epoch 73/100\n",
            "919/919 [==============================] - 1s 1ms/step - loss: 0.6527 - val_loss: 0.5691\n",
            "Epoch 74/100\n",
            "919/919 [==============================] - 1s 1ms/step - loss: 0.6134 - val_loss: 0.8663\n",
            "Epoch 75/100\n",
            "919/919 [==============================] - 1s 1ms/step - loss: 0.6136 - val_loss: 0.5422\n",
            "Epoch 76/100\n",
            "919/919 [==============================] - 1s 1ms/step - loss: 0.6007 - val_loss: 0.4490\n",
            "Epoch 77/100\n",
            "919/919 [==============================] - 1s 1ms/step - loss: 0.6138 - val_loss: 0.5379\n",
            "Epoch 78/100\n",
            "919/919 [==============================] - 1s 1ms/step - loss: 0.6346 - val_loss: 0.4250\n",
            "Epoch 79/100\n",
            "919/919 [==============================] - 1s 1ms/step - loss: 0.6266 - val_loss: 1.1208\n",
            "Epoch 80/100\n",
            "919/919 [==============================] - 1s 1ms/step - loss: 0.6147 - val_loss: 0.5594\n",
            "Epoch 81/100\n",
            "919/919 [==============================] - 1s 1ms/step - loss: 0.6149 - val_loss: 0.4483\n",
            "Epoch 82/100\n",
            "919/919 [==============================] - 1s 1ms/step - loss: 0.6473 - val_loss: 1.0281\n",
            "Epoch 83/100\n",
            "919/919 [==============================] - 1s 1ms/step - loss: 0.6521 - val_loss: 0.7102\n",
            "Epoch 84/100\n",
            "919/919 [==============================] - 1s 1ms/step - loss: 0.6369 - val_loss: 0.5649\n",
            "Epoch 85/100\n",
            "919/919 [==============================] - 1s 1ms/step - loss: 0.6152 - val_loss: 1.0902\n",
            "Epoch 86/100\n",
            "919/919 [==============================] - 1s 1ms/step - loss: 0.6374 - val_loss: 0.4778\n",
            "Epoch 87/100\n",
            "919/919 [==============================] - 1s 1ms/step - loss: 0.6034 - val_loss: 0.4215\n",
            "Epoch 88/100\n",
            "919/919 [==============================] - 1s 1ms/step - loss: 0.6092 - val_loss: 0.6307\n",
            "Epoch 89/100\n",
            "919/919 [==============================] - 1s 1ms/step - loss: 0.6309 - val_loss: 0.5247\n",
            "Epoch 90/100\n",
            "919/919 [==============================] - 1s 1ms/step - loss: 0.6216 - val_loss: 0.5687\n",
            "Epoch 91/100\n",
            "919/919 [==============================] - 1s 1ms/step - loss: 0.6239 - val_loss: 0.7515\n",
            "Epoch 92/100\n",
            "919/919 [==============================] - 1s 1ms/step - loss: 0.5972 - val_loss: 0.4077\n",
            "Epoch 93/100\n",
            "919/919 [==============================] - 1s 1ms/step - loss: 0.6116 - val_loss: 0.5287\n",
            "Epoch 94/100\n",
            "919/919 [==============================] - 1s 1ms/step - loss: 0.6090 - val_loss: 0.4860\n",
            "Epoch 95/100\n",
            "919/919 [==============================] - 1s 1ms/step - loss: 0.5897 - val_loss: 0.4686\n",
            "Epoch 96/100\n",
            "919/919 [==============================] - 1s 1ms/step - loss: 0.6152 - val_loss: 0.5346\n",
            "Epoch 97/100\n",
            "919/919 [==============================] - 1s 1ms/step - loss: 0.6040 - val_loss: 0.5870\n",
            "Epoch 98/100\n",
            "919/919 [==============================] - 1s 1ms/step - loss: 0.5674 - val_loss: 0.5821\n",
            "Epoch 99/100\n",
            "919/919 [==============================] - 1s 1ms/step - loss: 0.6459 - val_loss: 0.5893\n",
            "Epoch 100/100\n",
            "919/919 [==============================] - 1s 1ms/step - loss: 0.5974 - val_loss: 0.5006\n"
          ],
          "name": "stdout"
        },
        {
          "output_type": "display_data",
          "data": {
            "image/png": "[encoded data removed]",
            "text/plain": [
              "<Figure size 432x288 with 1 Axes>"
            ]
          },
          "metadata": {
            "tags": [],
            "needs_background": "light"
          }
        }
      ]
    },
    {
      "cell_type": "code",
      "metadata": {
        "colab": {
          "base_uri": "https://localhost:8080/"
        },
        "id": "fzak43i4pT4X",
        "outputId": "de1f6690-c650-4747-e2dd-ceedbbd2379c"
      },
      "source": [
        "# Predict test set results\n",
        "y_pred = reg.predict(X_test)\n",
        "np.set_printoptions(precision = 2)\n",
        "print(np.concatenate((y_pred.reshape(len(y_pred), 1), y_test.reshape(len(y_test), 1)), 1 ))\n",
        "print('')\n",
        "\n",
        "# Summarize results\n",
        "print('MAE: %.3f' % (mean_absolute_error(y_test, y_pred)))\n",
        "print('MSE: %.3f' % (mean_squared_error(y_test, y_pred)))\n",
        "print('RMSE: %.3f' % (mean_squared_error(y_test, y_pred, squared=False)))\n",
        "print('R^2 Score: %.3f' % (r2_score(y_test, y_pred)))"
      ],
      "execution_count": 23,
      "outputs": [
        {
          "output_type": "stream",
          "text": [
            "[[126.57 126.81]\n",
            " [122.7  122.67]\n",
            " [151.28 152.8 ]\n",
            " ...\n",
            " [132.02 132.22]\n",
            " [132.94 132.83]\n",
            " [150.39 150.23]]\n",
            "\n",
            "MAE: 0.539\n",
            "MSE: 0.501\n",
            "RMSE: 0.708\n",
            "R^2 Score: 0.998\n"
          ],
          "name": "stdout"
        }
      ]
    },
    {
      "cell_type": "code",
      "metadata": {
        "colab": {
          "base_uri": "https://localhost:8080/",
          "height": 339
        },
        "id": "BGsPKqBYyEpc",
        "outputId": "a11cddc7-2c85-42f9-847c-f6ecefcff73a"
      },
      "source": [
        "# Plot histogram for y_pred\n",
        "fig1 = plt.figure(figsize=(15, 6))\n",
        "ax1 = fig1.add_subplot(1, 2, 1)\n",
        "plt.xticks(np.arange(50, 200, 10))\n",
        "plt.yticks(np.arange(0, 3200, 200))\n",
        "plt.hist(x=y_pred, facecolor='green', alpha=0.55, edgecolor='black')\n",
        "plt.xlabel('Turbine Energy Yield (TEY)', fontsize=12)\n",
        "plt.ylabel('Number of Instances', fontsize=12)\n",
        "plt.title('Predicted TEY Distribution', fontsize=14)\n",
        "\n",
        "# Plot histogram for y_test\n",
        "ax1 = fig1.add_subplot(1, 2, 2)\n",
        "plt.xticks(np.arange(50, 200, 10))\n",
        "plt.yticks(np.arange(0, 3200, 200))\n",
        "plt.hist(x=y_test, facecolor='orange', alpha=0.6, edgecolor='black')\n",
        "plt.xlabel('Turbine Energy Yield (TEY)', fontsize=12)\n",
        "plt.ylabel('Number of Instances', fontsize=12)\n",
        "plt.title('Validation TEY Distribution', fontsize=14)\n",
        "\n",
        "# Show subplot\n",
        "plt.show()"
      ],
      "execution_count": 24,
      "outputs": [
        {
          "output_type": "display_data",
          "data": {
            "image/png": "[encoded data removed]",
            "text/plain": [
              "<Figure size 1080x432 with 2 Axes>"
            ]
          },
          "metadata": {
            "tags": [],
            "needs_background": "light"
          }
        }
      ]
    },
    {
      "cell_type": "markdown",
      "metadata": {
        "id": "R91HskYKawd1"
      },
      "source": [
        "## 5. Final Results"
      ]
    },
    {
      "cell_type": "markdown",
      "metadata": {
        "id": "IJsl2nDTqYT2"
      },
      "source": [
        "<table border = \"1\">\n",
        "  <thead>\n",
        "    <th colspan = \"3\">Sample Neural Network Regression Scores</th>\n",
        "  </thead>\n",
        "  <tbody>\n",
        "    <tr>\n",
        "      <td><b>MAE</b></td>\n",
        "      <td>0.539</td>\n",
        "    </tr>\n",
        "    <tr>\n",
        "      <td><b>MSE</b></td>\n",
        "      <td>0.501</td>\n",
        "    </tr>\n",
        "    <tr>\n",
        "      <td><b>RMSE</b></td>\n",
        "      <td>0.708</td>\n",
        "    </tr>\n",
        "    <tr>\n",
        "      <td><b>R^2</b></td>\n",
        "      <td>0.998</td>\n",
        "    </tr>\n",
        "  </tbody>\n",
        "</table>\n",
        "\n",
        "Note: These results vary slightly due to the random nature of Deep Learning."
      ]
    }
  ]
}