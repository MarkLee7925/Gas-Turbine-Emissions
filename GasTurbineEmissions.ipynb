{
  "nbformat": 4,
  "nbformat_minor": 0,
  "metadata": {
    "colab": {
      "name": "GasTurbineEmissions.ipynb",
      "provenance": [],
      "collapsed_sections": [],
      "toc_visible": true,
      "authorship_tag": "ABX9TyOL5TKzxxtgR/DaWVFiJh0W",
      "include_colab_link": true
    },
    "kernelspec": {
      "display_name": "Python 3",
      "name": "python3"
    }
  },
  "cells": [
    {
      "cell_type": "markdown",
      "metadata": {
        "id": "view-in-github",
        "colab_type": "text"
      },
      "source": [
        "<a href=\"https://colab.research.google.com/github/MarkLee7925/Gas-Turbine-Emissions/blob/main/GasTurbineEmissions.ipynb\" target=\"_parent\"><img src=\"https://colab.research.google.com/assets/colab-badge.svg\" alt=\"Open In Colab\"/></a>"
      ]
    },
    {
      "cell_type": "markdown",
      "metadata": {
        "id": "APZVoQmL47I1"
      },
      "source": [
        "# Gas Turbine Emissions Regression"
      ]
    },
    {
      "cell_type": "markdown",
      "metadata": {
        "id": "nNx9hfINDIam"
      },
      "source": [
        "## 1. Import Libraries"
      ]
    },
    {
      "cell_type": "code",
      "metadata": {
        "id": "xuNOzl914e6q"
      },
      "source": [
        "import numpy as np\n",
        "import matplotlib.pyplot as plt\n",
        "import pandas as pd\n",
        "import seaborn as sns"
      ],
      "execution_count": 1,
      "outputs": []
    },
    {
      "cell_type": "markdown",
      "metadata": {
        "id": "dHpMeEh8Z40u"
      },
      "source": [
        "## 2. Load and Summarize Data"
      ]
    },
    {
      "cell_type": "code",
      "metadata": {
        "colab": {
          "base_uri": "https://localhost:8080/"
        },
        "id": "Vs4q7FIt4s8o",
        "outputId": "52991bfc-9175-445f-eee3-c998f83d0f02"
      },
      "source": [
        "# Load dataframe (df)\n",
        "df = pd.read_csv('gt_2011-15.csv')\n",
        "# Reorder dataframe with dependent variable at the end\n",
        "df = df[['AT', 'AP', 'AH', 'AFDP', 'GTEP', 'TIT', 'TAT', 'CDP', 'CO',\n",
        "       'NOX', 'TEY']]\n",
        "# Get values for matrix of features (X) and dependent variable (y)\n",
        "X, y = df.iloc[:, :-1].values, df.iloc[:, -1].values\n",
        "\n",
        "print(X.shape, y.shape)"
      ],
      "execution_count": 2,
      "outputs": [
        {
          "output_type": "stream",
          "text": [
            "(36733, 10) (36733,)\n"
          ],
          "name": "stdout"
        }
      ]
    },
    {
      "cell_type": "code",
      "metadata": {
        "colab": {
          "base_uri": "https://localhost:8080/",
          "height": 419
        },
        "id": "Y40bdlo6LmXA",
        "outputId": "fe9445e7-3539-46b6-fcf0-3a12627429b1"
      },
      "source": [
        "df"
      ],
      "execution_count": 3,
      "outputs": [
        {
          "output_type": "execute_result",
          "data": {
            "text/html": [
              "<div>\n",
              "<style scoped>\n",
              "    .dataframe tbody tr th:only-of-type {\n",
              "        vertical-align: middle;\n",
              "    }\n",
              "\n",
              "    .dataframe tbody tr th {\n",
              "        vertical-align: top;\n",
              "    }\n",
              "\n",
              "    .dataframe thead th {\n",
              "        text-align: right;\n",
              "    }\n",
              "</style>\n",
              "<table border=\"1\" class=\"dataframe\">\n",
              "  <thead>\n",
              "    <tr style=\"text-align: right;\">\n",
              "      <th></th>\n",
              "      <th>AT</th>\n",
              "      <th>AP</th>\n",
              "      <th>AH</th>\n",
              "      <th>AFDP</th>\n",
              "      <th>GTEP</th>\n",
              "      <th>TIT</th>\n",
              "      <th>TAT</th>\n",
              "      <th>CDP</th>\n",
              "      <th>CO</th>\n",
              "      <th>NOX</th>\n",
              "      <th>TEY</th>\n",
              "    </tr>\n",
              "  </thead>\n",
              "  <tbody>\n",
              "    <tr>\n",
              "      <th>0</th>\n",
              "      <td>4.5878</td>\n",
              "      <td>1018.7</td>\n",
              "      <td>83.675</td>\n",
              "      <td>3.5758</td>\n",
              "      <td>23.979</td>\n",
              "      <td>1086.2</td>\n",
              "      <td>549.83</td>\n",
              "      <td>11.898</td>\n",
              "      <td>0.32663</td>\n",
              "      <td>81.952</td>\n",
              "      <td>134.67</td>\n",
              "    </tr>\n",
              "    <tr>\n",
              "      <th>1</th>\n",
              "      <td>4.2932</td>\n",
              "      <td>1018.3</td>\n",
              "      <td>84.235</td>\n",
              "      <td>3.5709</td>\n",
              "      <td>23.951</td>\n",
              "      <td>1086.1</td>\n",
              "      <td>550.05</td>\n",
              "      <td>11.892</td>\n",
              "      <td>0.44784</td>\n",
              "      <td>82.377</td>\n",
              "      <td>134.67</td>\n",
              "    </tr>\n",
              "    <tr>\n",
              "      <th>2</th>\n",
              "      <td>3.9045</td>\n",
              "      <td>1018.4</td>\n",
              "      <td>84.858</td>\n",
              "      <td>3.5828</td>\n",
              "      <td>23.990</td>\n",
              "      <td>1086.5</td>\n",
              "      <td>550.19</td>\n",
              "      <td>12.042</td>\n",
              "      <td>0.45144</td>\n",
              "      <td>83.776</td>\n",
              "      <td>135.10</td>\n",
              "    </tr>\n",
              "    <tr>\n",
              "      <th>3</th>\n",
              "      <td>3.7436</td>\n",
              "      <td>1018.3</td>\n",
              "      <td>85.434</td>\n",
              "      <td>3.5808</td>\n",
              "      <td>23.911</td>\n",
              "      <td>1086.5</td>\n",
              "      <td>550.17</td>\n",
              "      <td>11.990</td>\n",
              "      <td>0.23107</td>\n",
              "      <td>82.505</td>\n",
              "      <td>135.03</td>\n",
              "    </tr>\n",
              "    <tr>\n",
              "      <th>4</th>\n",
              "      <td>3.7516</td>\n",
              "      <td>1017.8</td>\n",
              "      <td>85.182</td>\n",
              "      <td>3.5781</td>\n",
              "      <td>23.917</td>\n",
              "      <td>1085.9</td>\n",
              "      <td>550.00</td>\n",
              "      <td>11.910</td>\n",
              "      <td>0.26747</td>\n",
              "      <td>82.028</td>\n",
              "      <td>134.67</td>\n",
              "    </tr>\n",
              "    <tr>\n",
              "      <th>...</th>\n",
              "      <td>...</td>\n",
              "      <td>...</td>\n",
              "      <td>...</td>\n",
              "      <td>...</td>\n",
              "      <td>...</td>\n",
              "      <td>...</td>\n",
              "      <td>...</td>\n",
              "      <td>...</td>\n",
              "      <td>...</td>\n",
              "      <td>...</td>\n",
              "      <td>...</td>\n",
              "    </tr>\n",
              "    <tr>\n",
              "      <th>36728</th>\n",
              "      <td>3.6268</td>\n",
              "      <td>1028.5</td>\n",
              "      <td>93.200</td>\n",
              "      <td>3.1661</td>\n",
              "      <td>19.087</td>\n",
              "      <td>1037.0</td>\n",
              "      <td>541.59</td>\n",
              "      <td>10.411</td>\n",
              "      <td>10.99300</td>\n",
              "      <td>89.172</td>\n",
              "      <td>109.08</td>\n",
              "    </tr>\n",
              "    <tr>\n",
              "      <th>36729</th>\n",
              "      <td>4.1674</td>\n",
              "      <td>1028.6</td>\n",
              "      <td>94.036</td>\n",
              "      <td>3.1923</td>\n",
              "      <td>19.016</td>\n",
              "      <td>1037.6</td>\n",
              "      <td>542.28</td>\n",
              "      <td>10.344</td>\n",
              "      <td>11.14400</td>\n",
              "      <td>88.849</td>\n",
              "      <td>108.79</td>\n",
              "    </tr>\n",
              "    <tr>\n",
              "      <th>36730</th>\n",
              "      <td>5.4820</td>\n",
              "      <td>1028.5</td>\n",
              "      <td>95.219</td>\n",
              "      <td>3.3128</td>\n",
              "      <td>18.857</td>\n",
              "      <td>1038.0</td>\n",
              "      <td>543.48</td>\n",
              "      <td>10.462</td>\n",
              "      <td>11.41400</td>\n",
              "      <td>96.147</td>\n",
              "      <td>107.81</td>\n",
              "    </tr>\n",
              "    <tr>\n",
              "      <th>36731</th>\n",
              "      <td>5.8837</td>\n",
              "      <td>1028.7</td>\n",
              "      <td>94.200</td>\n",
              "      <td>3.9831</td>\n",
              "      <td>23.563</td>\n",
              "      <td>1076.9</td>\n",
              "      <td>550.11</td>\n",
              "      <td>11.771</td>\n",
              "      <td>3.31340</td>\n",
              "      <td>64.738</td>\n",
              "      <td>131.41</td>\n",
              "    </tr>\n",
              "    <tr>\n",
              "      <th>36732</th>\n",
              "      <td>6.0392</td>\n",
              "      <td>1028.8</td>\n",
              "      <td>94.547</td>\n",
              "      <td>3.8752</td>\n",
              "      <td>22.524</td>\n",
              "      <td>1067.9</td>\n",
              "      <td>548.23</td>\n",
              "      <td>11.462</td>\n",
              "      <td>11.98100</td>\n",
              "      <td>109.240</td>\n",
              "      <td>125.41</td>\n",
              "    </tr>\n",
              "  </tbody>\n",
              "</table>\n",
              "<p>36733 rows × 11 columns</p>\n",
              "</div>"
            ],
            "text/plain": [
              "           AT      AP      AH    AFDP  ...     CDP        CO      NOX     TEY\n",
              "0      4.5878  1018.7  83.675  3.5758  ...  11.898   0.32663   81.952  134.67\n",
              "1      4.2932  1018.3  84.235  3.5709  ...  11.892   0.44784   82.377  134.67\n",
              "2      3.9045  1018.4  84.858  3.5828  ...  12.042   0.45144   83.776  135.10\n",
              "3      3.7436  1018.3  85.434  3.5808  ...  11.990   0.23107   82.505  135.03\n",
              "4      3.7516  1017.8  85.182  3.5781  ...  11.910   0.26747   82.028  134.67\n",
              "...       ...     ...     ...     ...  ...     ...       ...      ...     ...\n",
              "36728  3.6268  1028.5  93.200  3.1661  ...  10.411  10.99300   89.172  109.08\n",
              "36729  4.1674  1028.6  94.036  3.1923  ...  10.344  11.14400   88.849  108.79\n",
              "36730  5.4820  1028.5  95.219  3.3128  ...  10.462  11.41400   96.147  107.81\n",
              "36731  5.8837  1028.7  94.200  3.9831  ...  11.771   3.31340   64.738  131.41\n",
              "36732  6.0392  1028.8  94.547  3.8752  ...  11.462  11.98100  109.240  125.41\n",
              "\n",
              "[36733 rows x 11 columns]"
            ]
          },
          "metadata": {
            "tags": []
          },
          "execution_count": 3
        }
      ]
    },
    {
      "cell_type": "code",
      "metadata": {
        "colab": {
          "base_uri": "https://localhost:8080/"
        },
        "id": "RUXT12RH4xJs",
        "outputId": "a6982e03-d52e-4cea-b07e-5472ad6ad635"
      },
      "source": [
        "df.info()"
      ],
      "execution_count": 4,
      "outputs": [
        {
          "output_type": "stream",
          "text": [
            "<class 'pandas.core.frame.DataFrame'>\n",
            "RangeIndex: 36733 entries, 0 to 36732\n",
            "Data columns (total 11 columns):\n",
            " #   Column  Non-Null Count  Dtype  \n",
            "---  ------  --------------  -----  \n",
            " 0   AT      36733 non-null  float64\n",
            " 1   AP      36733 non-null  float64\n",
            " 2   AH      36733 non-null  float64\n",
            " 3   AFDP    36733 non-null  float64\n",
            " 4   GTEP    36733 non-null  float64\n",
            " 5   TIT     36733 non-null  float64\n",
            " 6   TAT     36733 non-null  float64\n",
            " 7   CDP     36733 non-null  float64\n",
            " 8   CO      36733 non-null  float64\n",
            " 9   NOX     36733 non-null  float64\n",
            " 10  TEY     36733 non-null  float64\n",
            "dtypes: float64(11)\n",
            "memory usage: 3.1 MB\n"
          ],
          "name": "stdout"
        }
      ]
    },
    {
      "cell_type": "code",
      "metadata": {
        "colab": {
          "base_uri": "https://localhost:8080/",
          "height": 317
        },
        "id": "ey97ULPW4yvY",
        "outputId": "98816183-119f-43d3-b053-c9bf486146bc"
      },
      "source": [
        "df.describe()"
      ],
      "execution_count": 5,
      "outputs": [
        {
          "output_type": "execute_result",
          "data": {
            "text/html": [
              "<div>\n",
              "<style scoped>\n",
              "    .dataframe tbody tr th:only-of-type {\n",
              "        vertical-align: middle;\n",
              "    }\n",
              "\n",
              "    .dataframe tbody tr th {\n",
              "        vertical-align: top;\n",
              "    }\n",
              "\n",
              "    .dataframe thead th {\n",
              "        text-align: right;\n",
              "    }\n",
              "</style>\n",
              "<table border=\"1\" class=\"dataframe\">\n",
              "  <thead>\n",
              "    <tr style=\"text-align: right;\">\n",
              "      <th></th>\n",
              "      <th>AT</th>\n",
              "      <th>AP</th>\n",
              "      <th>AH</th>\n",
              "      <th>AFDP</th>\n",
              "      <th>GTEP</th>\n",
              "      <th>TIT</th>\n",
              "      <th>TAT</th>\n",
              "      <th>CDP</th>\n",
              "      <th>CO</th>\n",
              "      <th>NOX</th>\n",
              "      <th>TEY</th>\n",
              "    </tr>\n",
              "  </thead>\n",
              "  <tbody>\n",
              "    <tr>\n",
              "      <th>count</th>\n",
              "      <td>36733.000000</td>\n",
              "      <td>36733.000000</td>\n",
              "      <td>36733.000000</td>\n",
              "      <td>36733.000000</td>\n",
              "      <td>36733.000000</td>\n",
              "      <td>36733.000000</td>\n",
              "      <td>36733.000000</td>\n",
              "      <td>36733.000000</td>\n",
              "      <td>36733.000000</td>\n",
              "      <td>36733.000000</td>\n",
              "      <td>36733.000000</td>\n",
              "    </tr>\n",
              "    <tr>\n",
              "      <th>mean</th>\n",
              "      <td>17.712726</td>\n",
              "      <td>1013.070165</td>\n",
              "      <td>77.867015</td>\n",
              "      <td>3.925518</td>\n",
              "      <td>25.563801</td>\n",
              "      <td>1081.428084</td>\n",
              "      <td>546.158517</td>\n",
              "      <td>12.060525</td>\n",
              "      <td>2.372468</td>\n",
              "      <td>65.293067</td>\n",
              "      <td>133.506404</td>\n",
              "    </tr>\n",
              "    <tr>\n",
              "      <th>std</th>\n",
              "      <td>7.447451</td>\n",
              "      <td>6.463346</td>\n",
              "      <td>14.461355</td>\n",
              "      <td>0.773936</td>\n",
              "      <td>4.195957</td>\n",
              "      <td>17.536373</td>\n",
              "      <td>6.842360</td>\n",
              "      <td>1.088795</td>\n",
              "      <td>2.262672</td>\n",
              "      <td>11.678357</td>\n",
              "      <td>15.618634</td>\n",
              "    </tr>\n",
              "    <tr>\n",
              "      <th>min</th>\n",
              "      <td>-6.234800</td>\n",
              "      <td>985.850000</td>\n",
              "      <td>24.085000</td>\n",
              "      <td>2.087400</td>\n",
              "      <td>17.698000</td>\n",
              "      <td>1000.800000</td>\n",
              "      <td>511.040000</td>\n",
              "      <td>9.851800</td>\n",
              "      <td>0.000388</td>\n",
              "      <td>25.905000</td>\n",
              "      <td>100.020000</td>\n",
              "    </tr>\n",
              "    <tr>\n",
              "      <th>25%</th>\n",
              "      <td>11.781000</td>\n",
              "      <td>1008.800000</td>\n",
              "      <td>68.188000</td>\n",
              "      <td>3.355600</td>\n",
              "      <td>23.129000</td>\n",
              "      <td>1071.800000</td>\n",
              "      <td>544.720000</td>\n",
              "      <td>11.435000</td>\n",
              "      <td>1.182400</td>\n",
              "      <td>57.162000</td>\n",
              "      <td>124.450000</td>\n",
              "    </tr>\n",
              "    <tr>\n",
              "      <th>50%</th>\n",
              "      <td>17.801000</td>\n",
              "      <td>1012.600000</td>\n",
              "      <td>80.470000</td>\n",
              "      <td>3.937700</td>\n",
              "      <td>25.104000</td>\n",
              "      <td>1085.900000</td>\n",
              "      <td>549.880000</td>\n",
              "      <td>11.965000</td>\n",
              "      <td>1.713500</td>\n",
              "      <td>63.849000</td>\n",
              "      <td>133.730000</td>\n",
              "    </tr>\n",
              "    <tr>\n",
              "      <th>75%</th>\n",
              "      <td>23.665000</td>\n",
              "      <td>1017.000000</td>\n",
              "      <td>89.376000</td>\n",
              "      <td>4.376900</td>\n",
              "      <td>29.061000</td>\n",
              "      <td>1097.000000</td>\n",
              "      <td>550.040000</td>\n",
              "      <td>12.855000</td>\n",
              "      <td>2.842900</td>\n",
              "      <td>71.548000</td>\n",
              "      <td>144.080000</td>\n",
              "    </tr>\n",
              "    <tr>\n",
              "      <th>max</th>\n",
              "      <td>37.103000</td>\n",
              "      <td>1036.600000</td>\n",
              "      <td>100.200000</td>\n",
              "      <td>7.610600</td>\n",
              "      <td>40.716000</td>\n",
              "      <td>1100.900000</td>\n",
              "      <td>550.610000</td>\n",
              "      <td>15.159000</td>\n",
              "      <td>44.103000</td>\n",
              "      <td>119.910000</td>\n",
              "      <td>179.500000</td>\n",
              "    </tr>\n",
              "  </tbody>\n",
              "</table>\n",
              "</div>"
            ],
            "text/plain": [
              "                 AT            AP  ...           NOX           TEY\n",
              "count  36733.000000  36733.000000  ...  36733.000000  36733.000000\n",
              "mean      17.712726   1013.070165  ...     65.293067    133.506404\n",
              "std        7.447451      6.463346  ...     11.678357     15.618634\n",
              "min       -6.234800    985.850000  ...     25.905000    100.020000\n",
              "25%       11.781000   1008.800000  ...     57.162000    124.450000\n",
              "50%       17.801000   1012.600000  ...     63.849000    133.730000\n",
              "75%       23.665000   1017.000000  ...     71.548000    144.080000\n",
              "max       37.103000   1036.600000  ...    119.910000    179.500000\n",
              "\n",
              "[8 rows x 11 columns]"
            ]
          },
          "metadata": {
            "tags": []
          },
          "execution_count": 5
        }
      ]
    },
    {
      "cell_type": "code",
      "metadata": {
        "colab": {
          "base_uri": "https://localhost:8080/"
        },
        "id": "0USxoxCsmgVM",
        "outputId": "f11c8202-cb1b-4ac0-de56-1c29b5c73f9e"
      },
      "source": [
        "# Check for missing values\n",
        "df.isnull().sum()"
      ],
      "execution_count": 6,
      "outputs": [
        {
          "output_type": "execute_result",
          "data": {
            "text/plain": [
              "AT      0\n",
              "AP      0\n",
              "AH      0\n",
              "AFDP    0\n",
              "GTEP    0\n",
              "TIT     0\n",
              "TAT     0\n",
              "CDP     0\n",
              "CO      0\n",
              "NOX     0\n",
              "TEY     0\n",
              "dtype: int64"
            ]
          },
          "metadata": {
            "tags": []
          },
          "execution_count": 6
        }
      ]
    },
    {
      "cell_type": "markdown",
      "metadata": {
        "id": "91jMLTuvaU_Q"
      },
      "source": [
        "## 3. Data Preprocessing and Feature Engineering"
      ]
    },
    {
      "cell_type": "code",
      "metadata": {
        "id": "HVDtA_UylPEp"
      },
      "source": [
        "# Split dataframe (df) into training and test sets\n",
        "from sklearn.model_selection import train_test_split\n",
        "\n",
        "X_train, X_test, y_train, y_test = train_test_split(X, y, test_size=0.2, \n",
        "                                                    random_state=0)"
      ],
      "execution_count": 7,
      "outputs": []
    },
    {
      "cell_type": "code",
      "metadata": {
        "id": "buM5XRz9lS3n"
      },
      "source": [
        "# Feature scaling\n",
        "from sklearn.preprocessing import StandardScaler\n",
        "\n",
        "sc = StandardScaler()\n",
        "X_train = sc.fit_transform(X_train)\n",
        "X_test = sc.fit_transform(X_test)"
      ],
      "execution_count": 8,
      "outputs": []
    },
    {
      "cell_type": "markdown",
      "metadata": {
        "id": "wSYVbECkakwm"
      },
      "source": [
        "## 4. Define and Evalutate Models"
      ]
    },
    {
      "cell_type": "code",
      "metadata": {
        "id": "f0TXcf2dklHZ"
      },
      "source": [
        "# Linear Regression\n",
        "from sklearn.linear_model import LinearRegression\n",
        "# Decision Tree\n",
        "from sklearn.tree import DecisionTreeRegressor\n",
        "# Random Forest\n",
        "from sklearn.ensemble import RandomForestRegressor\n",
        "# XGBoost\n",
        "import xgboost as xgb\n",
        "from xgboost import XGBRegressor\n",
        "# LightGBM\n",
        "import lightgbm as lgb\n",
        "from lightgbm import LGBMRegressor\n",
        "\n",
        "# Additional Libraries\n",
        "from sklearn.metrics import mean_absolute_error, mean_squared_error, r2_score\n",
        "from sklearn.model_selection import cross_val_score, RepeatedKFold, RepeatedStratifiedKFold\n",
        "from sklearn.model_selection import GridSearchCV"
      ],
      "execution_count": 9,
      "outputs": []
    },
    {
      "cell_type": "markdown",
      "metadata": {
        "id": "R0zI1XtnkS_c"
      },
      "source": [
        "### Linear Regression (LR)"
      ]
    },
    {
      "cell_type": "code",
      "metadata": {
        "colab": {
          "base_uri": "https://localhost:8080/"
        },
        "id": "s_cX-xjYpQlB",
        "outputId": "22bc5639-5202-4b8e-d642-258fad2f88e1"
      },
      "source": [
        "lr_reg = LinearRegression()\n",
        "\n",
        "lr_reg.fit(X_train, y_train)"
      ],
      "execution_count": 10,
      "outputs": [
        {
          "output_type": "execute_result",
          "data": {
            "text/plain": [
              "LinearRegression(copy_X=True, fit_intercept=True, n_jobs=None, normalize=False)"
            ]
          },
          "metadata": {
            "tags": []
          },
          "execution_count": 10
        }
      ]
    },
    {
      "cell_type": "code",
      "metadata": {
        "colab": {
          "base_uri": "https://localhost:8080/"
        },
        "id": "fzak43i4pT4X",
        "outputId": "1a72f245-062e-4a19-85af-486c020d7072"
      },
      "source": [
        "# Predict test set results\n",
        "lr_pred = lr_reg.predict(X_test)\n",
        "np.set_printoptions(precision = 2)\n",
        "print(np.concatenate((lr_pred.reshape(len(lr_pred), 1), y_test.reshape(len(y_test), 1)), 1 ))\n",
        "print('')\n",
        "\n",
        "# Summarize results\n",
        "print('MAE: %.3f' % (mean_absolute_error(y_test, lr_pred)))\n",
        "print('MSE: %.3f' % (mean_squared_error(y_test, lr_pred)))\n",
        "print('RMSE: %.3f' % (mean_squared_error(y_test, lr_pred, squared=False)))\n",
        "print('R^2 Score: %.3f' % (r2_score(y_test, lr_pred)))"
      ],
      "execution_count": 24,
      "outputs": [
        {
          "output_type": "stream",
          "text": [
            "[[126.35 126.81]\n",
            " [121.81 122.67]\n",
            " [150.71 152.8 ]\n",
            " ...\n",
            " [132.16 132.22]\n",
            " [133.79 132.83]\n",
            " [149.12 150.23]]\n",
            "\n",
            "MAE: 0.778\n",
            "MSE: 1.000\n",
            "RMSE: 1.000\n",
            "R^2 Score: 0.996\n"
          ],
          "name": "stdout"
        }
      ]
    },
    {
      "cell_type": "markdown",
      "metadata": {
        "id": "dlzTZTnbxz0J"
      },
      "source": [
        "<table border = \"1\">\n",
        "  <thead>\n",
        "    <th colspan = \"5\">Linear Regression Prediction Scores</th>\n",
        "  </thead>\n",
        "  <tbody>\n",
        "    <tr>\n",
        "      <td><b>MAE:<b></td>\n",
        "      <td>0.778</td>\n",
        "    </tr>\n",
        "    <tr>\n",
        "      <td><b>MSE:<b></td>\n",
        "      <td>1.000</td>\n",
        "    </tr>\n",
        "    <tr>\n",
        "      <td><b>RMSE:<b></td>\n",
        "      <td>1.000</td>\n",
        "    </tr>\n",
        "    <tr>\n",
        "      <td><b>R^2:<b></td>\n",
        "      <td>0.996</td>\n",
        "    </tr>\n",
        "  </tbody>\n",
        "</table>"
      ]
    },
    {
      "cell_type": "code",
      "metadata": {
        "colab": {
          "base_uri": "https://localhost:8080/",
          "height": 339
        },
        "id": "BGsPKqBYyEpc",
        "outputId": "366e9ef4-bb61-473f-bcb3-a15c3427c6da"
      },
      "source": [
        "# Plot histogram for lr_pred\n",
        "fig1 = plt.figure(figsize=(15, 6))\n",
        "ax1 = fig1.add_subplot(1, 2, 1)\n",
        "plt.xticks(np.arange(0, 200, 10))\n",
        "plt.yticks(np.arange(0, 3200, 200))\n",
        "plt.hist(x=lr_pred, facecolor='violet', alpha=0.7, edgecolor='black')\n",
        "plt.xlabel('Turbine Energy Yield (MWH)', fontsize=12)\n",
        "plt.ylabel('Number of Instances', fontsize=12)\n",
        "plt.title('Predicted Turbine Energy Yield', fontsize=14)\n",
        "\n",
        "# Plot histogram for y_test\n",
        "ax1 = fig1.add_subplot(1, 2, 2)\n",
        "plt.xticks(np.arange(0, 200, 10))\n",
        "plt.yticks(np.arange(0, 3000, 200))\n",
        "plt.hist(x=y_test, facecolor='orange', alpha=0.6, edgecolor='black')\n",
        "plt.xlabel('Turbine Energy Yield (MWH)', fontsize=12)\n",
        "plt.ylabel('Number of Instances', fontsize=12)\n",
        "plt.title('Validation Turbine Energy Yield', fontsize=14)\n",
        "\n",
        "# Show subplot\n",
        "plt.show()"
      ],
      "execution_count": 12,
      "outputs": [
        {
          "output_type": "display_data",
          "data": {
            "image/png": "[encoded data removed]",
            "text/plain": [
              "<Figure size 1080x432 with 2 Axes>"
            ]
          },
          "metadata": {
            "tags": [],
            "needs_background": "light"
          }
        }
      ]
    },
    {
      "cell_type": "code",
      "metadata": {
        "colab": {
          "base_uri": "https://localhost:8080/",
          "height": 1000
        },
        "id": "3OwQvmnnpWSX",
        "outputId": "7c710400-325b-43cc-93bf-61485b5002fa"
      },
      "source": [
        "# Apply k-Fold Cross Validation on the training set\n",
        "\n",
        "# Lists of values\n",
        "r2_means, r2_stds, r2_mins, r2_maxs = [], [], [], []  # R^2 Scoring\n",
        "rmse_means, rmse_stds, rmse_mins, rmse_maxs = [], [], [], []  # RMSE Scoring\n",
        "# Cross validate for 10 k-folds, each with 3 repeats\n",
        "for k in range(2, 12):\n",
        "  cv = RepeatedKFold(n_splits = k, random_state = 0)\n",
        "  r2_scores = cross_val_score(lr_reg, X_train, y_train, scoring='r2', cv=cv, n_jobs=-1)\n",
        "  # scores = cross_val_score(lr_reg, X_train, y_train, scoring='neg_mean_absolute_error', cv=cv, n_jobs=-1)\n",
        "  # scores = cross_val_score(lr_reg, X_train, y_train, scoring='neg_mean_squared_error', cv=cv, n_jobs=-1)\n",
        "  rmse_scores = cross_val_score(lr_reg, X_train, y_train, scoring='neg_root_mean_squared_error', cv=cv, n_jobs=-1)\n",
        "  \n",
        "  # Force scores to be positive\n",
        "  r2_scores = abs(r2_scores)\n",
        "  rmse_scores = abs(rmse_scores)\n",
        "\n",
        "  # Print values\n",
        "  print('')\n",
        "  print('-- Fold: %d --' % (k-1))\n",
        "  print('')\n",
        "  print('R^2 Scoring:')\n",
        "  print(\"Mean: %f\" % (np.mean(r2_scores)))\n",
        "  print(\"Std: +/- %f\" % (np.std(r2_scores)))\n",
        "  print(\"Min: %f\" % (np.min(r2_scores)))\n",
        "  print(\"Max: %f\" % (np.max(r2_scores)))\n",
        "  \n",
        "  print('')\n",
        "  print('RMSE Scoring:')\n",
        "  print(\"Mean: %f\" % (np.mean(rmse_scores)))\n",
        "  print(\"Std: +/- %f\" % (np.std(rmse_scores)))\n",
        "  print(\"Min: %f\" % (np.min(rmse_scores)))\n",
        "  print(\"Max: %f\" % (np.max(rmse_scores)))\n",
        "  print('')\n",
        "  \n",
        "  # Append R^2 scores\n",
        "  r2_means.append(np.mean(r2_scores))\n",
        "  r2_stds.append(np.std(r2_scores))\n",
        "  r2_mins.append(np.min(r2_scores))\n",
        "  r2_maxs.append(np.max(r2_scores))\n",
        "  \n",
        "  # Append RMSE scores\n",
        "  rmse_means.append(np.mean(rmse_scores))\n",
        "  rmse_stds.append(np.std(rmse_scores))\n",
        "  rmse_mins.append(np.min(rmse_scores))\n",
        "  rmse_maxs.append(np.max(rmse_scores))\n",
        "\n",
        "# Plot R^2 scores per k-fold:\n",
        "fig2 = plt.figure(figsize=(15, 10))\n",
        "ax1 = fig2.add_subplot(2, 2, 1)\n",
        "ax1.plot(np.arange(1,11), r2_means, color='red', label='Mean')\n",
        "ax1.plot(np.arange(1,11), r2_mins, color='green', label='Min')\n",
        "ax1.plot(np.arange(1,11), r2_maxs, color='blue', label='Max')\n",
        "ax1.set_xlabel('k-Fold', fontsize=12)\n",
        "ax1.set_ylabel('R^2 Score', fontsize=12)\n",
        "ax1.set_title('R^2 Score per k-Fold', fontsize=14)\n",
        "ax1.legend()\n",
        "ax1.grid(True)\n",
        "\n",
        "# Plot R^2 Standard Deviations per k-fold:\n",
        "ax2 = fig2.add_subplot(2, 2, 2)\n",
        "ax2.plot(np.arange(1,11), r2_stds, color='red')\n",
        "ax2.set_xlabel('k-Fold', fontsize=12)\n",
        "ax2.set_ylabel('Standard Deviation (+/-)', fontsize=12)\n",
        "ax2.set_title('R^2 Standard Deviation per k-fold', fontsize=14)\n",
        "ax2.grid(True)\n",
        "\n",
        "# Plot RMSE scores per k-fold:\n",
        "ax3 = fig2.add_subplot(2, 2, 3)\n",
        "ax3.plot(np.arange(1,11), rmse_means, color='orangered', label='Mean')\n",
        "ax3.plot(np.arange(1,11), rmse_mins, color='green', label='Min')\n",
        "ax3.plot(np.arange(1,11), rmse_maxs, color='blue', label='Max')\n",
        "ax3.set_xlabel('k-Fold', fontsize=12)\n",
        "ax3.set_ylabel('RMSE Score', fontsize=12)\n",
        "ax3.set_title('RMSE Score per k-Fold', fontsize=14)\n",
        "ax3.legend()\n",
        "ax3.grid(True)\n",
        "\n",
        "# Plot RMSE Standard Deviations per k-fold:\n",
        "ax4 = fig2.add_subplot(2, 2, 4)\n",
        "ax4.plot(np.arange(1,11), rmse_stds, color='orangered')\n",
        "ax4.set_xlabel('k-Fold', fontsize=12)\n",
        "ax4.set_ylabel('Standard Deviation (+/-)', fontsize=12)\n",
        "ax4.set_title('RMSE Standard Deviation per k-fold', fontsize=14)\n",
        "ax4.grid(True)\n",
        "\n",
        "# Show subplot\n",
        "plt.show()"
      ],
      "execution_count": 13,
      "outputs": [
        {
          "output_type": "stream",
          "text": [
            "\n",
            "-- Fold: 1 --\n",
            "\n",
            "R^2 Scoring:\n",
            "Mean: 0.996262\n",
            "Std: +/- 0.000029\n",
            "Min: 0.996218\n",
            "Max: 0.996310\n",
            "\n",
            "RMSE Scoring:\n",
            "Mean: 0.952213\n",
            "Std: +/- 0.002375\n",
            "Min: 0.946284\n",
            "Max: 0.959027\n",
            "\n",
            "\n",
            "-- Fold: 2 --\n",
            "\n",
            "R^2 Scoring:\n",
            "Mean: 0.996262\n",
            "Std: +/- 0.000053\n",
            "Min: 0.996155\n",
            "Max: 0.996400\n",
            "\n",
            "RMSE Scoring:\n",
            "Mean: 0.952154\n",
            "Std: +/- 0.005547\n",
            "Min: 0.938573\n",
            "Max: 0.963237\n",
            "\n",
            "\n",
            "-- Fold: 3 --\n",
            "\n",
            "R^2 Scoring:\n",
            "Mean: 0.996262\n",
            "Std: +/- 0.000060\n",
            "Min: 0.996137\n",
            "Max: 0.996407\n",
            "\n",
            "RMSE Scoring:\n",
            "Mean: 0.952132\n",
            "Std: +/- 0.005477\n",
            "Min: 0.941288\n",
            "Max: 0.964618\n",
            "\n",
            "\n",
            "-- Fold: 4 --\n",
            "\n",
            "R^2 Scoring:\n",
            "Mean: 0.996262\n",
            "Std: +/- 0.000062\n",
            "Min: 0.996128\n",
            "Max: 0.996363\n",
            "\n",
            "RMSE Scoring:\n",
            "Mean: 0.952118\n",
            "Std: +/- 0.005988\n",
            "Min: 0.937296\n",
            "Max: 0.968137\n",
            "\n",
            "\n",
            "-- Fold: 5 --\n",
            "\n",
            "R^2 Scoring:\n",
            "Mean: 0.996261\n",
            "Std: +/- 0.000095\n",
            "Min: 0.996042\n",
            "Max: 0.996466\n",
            "\n",
            "RMSE Scoring:\n",
            "Mean: 0.952097\n",
            "Std: +/- 0.010064\n",
            "Min: 0.928679\n",
            "Max: 0.974792\n",
            "\n",
            "\n",
            "-- Fold: 6 --\n",
            "\n",
            "R^2 Scoring:\n",
            "Mean: 0.996261\n",
            "Std: +/- 0.000097\n",
            "Min: 0.996000\n",
            "Max: 0.996482\n",
            "\n",
            "RMSE Scoring:\n",
            "Mean: 0.952081\n",
            "Std: +/- 0.010154\n",
            "Min: 0.924502\n",
            "Max: 0.974278\n",
            "\n",
            "\n",
            "-- Fold: 7 --\n",
            "\n",
            "R^2 Scoring:\n",
            "Mean: 0.996261\n",
            "Std: +/- 0.000101\n",
            "Min: 0.996053\n",
            "Max: 0.996470\n",
            "\n",
            "RMSE Scoring:\n",
            "Mean: 0.952079\n",
            "Std: +/- 0.010724\n",
            "Min: 0.926535\n",
            "Max: 0.975752\n",
            "\n",
            "\n",
            "-- Fold: 8 --\n",
            "\n",
            "R^2 Scoring:\n",
            "Mean: 0.996260\n",
            "Std: +/- 0.000116\n",
            "Min: 0.996006\n",
            "Max: 0.996564\n",
            "\n",
            "RMSE Scoring:\n",
            "Mean: 0.952074\n",
            "Std: +/- 0.012185\n",
            "Min: 0.922205\n",
            "Max: 0.978175\n",
            "\n",
            "\n",
            "-- Fold: 9 --\n",
            "\n",
            "R^2 Scoring:\n",
            "Mean: 0.996259\n",
            "Std: +/- 0.000144\n",
            "Min: 0.995965\n",
            "Max: 0.996644\n",
            "\n",
            "RMSE Scoring:\n",
            "Mean: 0.952035\n",
            "Std: +/- 0.014432\n",
            "Min: 0.919376\n",
            "Max: 0.982692\n",
            "\n",
            "\n",
            "-- Fold: 10 --\n",
            "\n",
            "R^2 Scoring:\n",
            "Mean: 0.996259\n",
            "Std: +/- 0.000142\n",
            "Min: 0.995899\n",
            "Max: 0.996648\n",
            "\n",
            "RMSE Scoring:\n",
            "Mean: 0.952033\n",
            "Std: +/- 0.014027\n",
            "Min: 0.917426\n",
            "Max: 0.983283\n",
            "\n"
          ],
          "name": "stdout"
        },
        {
          "output_type": "display_data",
          "data": {
            "image/png": "[encoded data removed]",
            "text/plain": [
              "<Figure size 1080x720 with 4 Axes>"
            ]
          },
          "metadata": {
            "tags": [],
            "needs_background": "light"
          }
        }
      ]
    },
    {
      "cell_type": "markdown",
      "metadata": {
        "id": "uKGKjWPupY-6"
      },
      "source": [
        "<table border = \"1\">\n",
        "  <thead>\n",
        "    <th colspan = \"3\">Linear Regression Cross-Validation Results</th>\n",
        "  </thead>\n",
        "  <tbody>\n",
        "    <tr>\n",
        "      <td><b></b></td>\n",
        "      <td><b>R^2</b></td>\n",
        "      <td><b>RMSE</b></td>\n",
        "    </tr>\n",
        "    <tr>\n",
        "      <td><b>Mean</b></td>\n",
        "      <td>0.996</td>\n",
        "      <td>0.952</td>\n",
        "    </tr>\n",
        "    <tr>\n",
        "      <td><b>Std.</b></td>\n",
        "      <td>0.0001</td>\n",
        "      <td>0.014</td>\n",
        "    </tr>\n",
        "    <tr>\n",
        "      <td><b>Min</b></td>\n",
        "      <td>0.996</td>\n",
        "      <td>0.917</td>\n",
        "    </tr>\n",
        "    <tr>\n",
        "      <td><b>Max</b></td>\n",
        "      <td>0.997</td>\n",
        "      <td>0.983</td>\n",
        "    </tr>\n",
        "  </tbody>\n",
        "</table>"
      ]
    },
    {
      "cell_type": "markdown",
      "metadata": {
        "id": "XJ-wQwibkPrU"
      },
      "source": [
        "### Decision Tree (DT)"
      ]
    },
    {
      "cell_type": "code",
      "metadata": {
        "colab": {
          "base_uri": "https://localhost:8080/"
        },
        "id": "dD2I3unlmYbB",
        "outputId": "a283e5f6-f8c9-45da-97c7-8fb73fc15576"
      },
      "source": [
        "dt_reg = DecisionTreeRegressor(criterion='mse', max_depth=94, \n",
        "                               min_samples_leaf=6, min_samples_split=11, \n",
        "                               max_features=10, random_state=0)\n",
        "\n",
        "dt_reg.fit(X_train, y_train)"
      ],
      "execution_count": 14,
      "outputs": [
        {
          "output_type": "execute_result",
          "data": {
            "text/plain": [
              "DecisionTreeRegressor(ccp_alpha=0.0, criterion='mse', max_depth=94,\n",
              "                      max_features=10, max_leaf_nodes=None,\n",
              "                      min_impurity_decrease=0.0, min_impurity_split=None,\n",
              "                      min_samples_leaf=6, min_samples_split=11,\n",
              "                      min_weight_fraction_leaf=0.0, presort='deprecated',\n",
              "                      random_state=0, splitter='best')"
            ]
          },
          "metadata": {
            "tags": []
          },
          "execution_count": 14
        }
      ]
    },
    {
      "cell_type": "code",
      "metadata": {
        "colab": {
          "base_uri": "https://localhost:8080/"
        },
        "id": "t2cyyfZRmoDT",
        "outputId": "a5f2fa6d-531c-4472-83d4-1ede222e1fe1"
      },
      "source": [
        "# Predict test set results\n",
        "dt_pred = dt_reg.predict(X_test)\n",
        "np.set_printoptions(precision = 2)\n",
        "print(np.concatenate((dt_pred.reshape(len(dt_pred), 1), y_test.reshape(len(y_test), 1)), 1 ))\n",
        "print('')\n",
        "\n",
        "# Summarize results\n",
        "print('MAE: %.3f' % (mean_absolute_error(y_test, dt_pred)))\n",
        "print('MSE: %.3f' % (mean_squared_error(y_test, dt_pred)))\n",
        "print('RMSE: %.3f' % (mean_squared_error(y_test, dt_pred, squared=False)))\n",
        "print('R^2 Score: %.3f' % (r2_score(y_test, dt_pred)))"
      ],
      "execution_count": 15,
      "outputs": [
        {
          "output_type": "stream",
          "text": [
            "[[126.98 126.81]\n",
            " [122.78 122.67]\n",
            " [152.33 152.8 ]\n",
            " ...\n",
            " [130.22 132.22]\n",
            " [133.35 132.83]\n",
            " [150.29 150.23]]\n",
            "\n",
            "MAE: 0.649\n",
            "MSE: 0.803\n",
            "RMSE: 0.896\n",
            "R^2 Score: 0.997\n"
          ],
          "name": "stdout"
        }
      ]
    },
    {
      "cell_type": "markdown",
      "metadata": {
        "id": "PbnHyalPwG5K"
      },
      "source": [
        "<table border = \"1\">\n",
        "  <thead>\n",
        "    <th colspan = \"5\">Decision Tree Prediction Scores</th>\n",
        "  </thead>\n",
        "  <tbody>\n",
        "    <tr>\n",
        "      <td><b>MAE:<b></td>\n",
        "      <td>0.649</td>\n",
        "    </tr>\n",
        "    <tr>\n",
        "      <td><b>MSE:<b></td>\n",
        "      <td>0.803</td>\n",
        "    </tr>\n",
        "    <tr>\n",
        "      <td><b>RMSE:<b></td>\n",
        "      <td>0.896</td>\n",
        "    </tr>\n",
        "    <tr>\n",
        "      <td><b>R^2:<b></td>\n",
        "      <td>0.997</td>\n",
        "    </tr>\n",
        "  </tbody>\n",
        "</table>"
      ]
    },
    {
      "cell_type": "code",
      "metadata": {
        "colab": {
          "base_uri": "https://localhost:8080/",
          "height": 339
        },
        "id": "bs5zcd8wwJez",
        "outputId": "4f542237-ca55-4e7f-9a3b-a604536004c8"
      },
      "source": [
        "# Plot histogram for dt_pred\n",
        "fig1 = plt.figure(figsize=(15, 6))\n",
        "ax1 = fig1.add_subplot(1, 2, 1)\n",
        "plt.xticks(np.arange(0, 200, 10))\n",
        "plt.yticks(np.arange(0, 3200, 200))\n",
        "plt.hist(x=dt_pred, facecolor='red', alpha=0.6, edgecolor='black')\n",
        "plt.xlabel('Turbine Energy Yield (MWH)', fontsize=12)\n",
        "plt.ylabel('Number of Instances', fontsize=12)\n",
        "plt.title('Predicted Turbine Energy Yield', fontsize=14)\n",
        "\n",
        "# Plot histogram for y_test\n",
        "ax1 = fig1.add_subplot(1, 2, 2)\n",
        "plt.xticks(np.arange(0, 200, 10))\n",
        "plt.yticks(np.arange(0, 3000, 200))\n",
        "plt.hist(x=y_test, facecolor='orange', alpha=0.6, edgecolor='black')\n",
        "plt.xlabel('Turbine Energy Yield (MWH)', fontsize=12)\n",
        "plt.ylabel('Number of Instances', fontsize=12)\n",
        "plt.title('Validation Turbine Energy Yield', fontsize=14)\n",
        "\n",
        "# Show subplot\n",
        "plt.show()"
      ],
      "execution_count": 16,
      "outputs": [
        {
          "output_type": "display_data",
          "data": {
            "image/png": "[encoded data removed]",
            "text/plain": [
              "<Figure size 1080x432 with 2 Axes>"
            ]
          },
          "metadata": {
            "tags": [],
            "needs_background": "light"
          }
        }
      ]
    },
    {
      "cell_type": "code",
      "metadata": {
        "colab": {
          "base_uri": "https://localhost:8080/",
          "height": 1000
        },
        "id": "XEh1RpQNmqZN",
        "outputId": "630a05b5-27d5-47d5-b077-225b9c9be862"
      },
      "source": [
        "# Apply k-Fold Cross Validation on the training set\n",
        "\n",
        "# Lists of values\n",
        "r2_means, r2_stds, r2_mins, r2_maxs = [], [], [], []  # R^2 Scoring\n",
        "rmse_means, rmse_stds, rmse_mins, rmse_maxs = [], [], [], []  # RMSE Scoring\n",
        "# Cross validate for 10 k-folds, each with 3 repeats\n",
        "for k in range(2, 12):\n",
        "  cv = RepeatedKFold(n_splits = k, random_state = 0)\n",
        "  r2_scores = cross_val_score(dt_reg, X_train, y_train, scoring='r2', cv=cv, n_jobs=-1)\n",
        "  # scores = cross_val_score(reg, X_train, y_train, scoring='neg_mean_absolute_error', cv=cv, n_jobs=-1)\n",
        "  # scores = cross_val_score(reg, X_train, y_train, scoring='neg_mean_squared_error', cv=cv, n_jobs=-1)\n",
        "  rmse_scores = cross_val_score(dt_reg, X_train, y_train, scoring='neg_root_mean_squared_error', cv=cv, n_jobs=-1)\n",
        "  \n",
        "  # Force scores to be positive\n",
        "  r2_scores = abs(r2_scores)\n",
        "  rmse_scores = abs(rmse_scores)\n",
        "\n",
        "  # Print values\n",
        "  print('')\n",
        "  print('-- Fold: %d --' % (k-1))\n",
        "  print('')\n",
        "  print('R^2 Scoring:')\n",
        "  print(\"Mean: %f\" % (np.mean(r2_scores)))\n",
        "  print(\"Std: +/- %f\" % (np.std(r2_scores)))\n",
        "  print(\"Min: %f\" % (np.min(r2_scores)))\n",
        "  print(\"Max: %f\" % (np.max(r2_scores)))\n",
        "  \n",
        "  print('')\n",
        "  print('RMSE Scoring:')\n",
        "  print(\"Mean: %f\" % (np.mean(rmse_scores)))\n",
        "  print(\"Std: +/- %f\" % (np.std(rmse_scores)))\n",
        "  print(\"Min: %f\" % (np.min(rmse_scores)))\n",
        "  print(\"Max: %f\" % (np.max(rmse_scores)))\n",
        "  print('')\n",
        "  \n",
        "  # Append R^2 scores\n",
        "  r2_means.append(np.mean(r2_scores))\n",
        "  r2_stds.append(np.std(r2_scores))\n",
        "  r2_mins.append(np.min(r2_scores))\n",
        "  r2_maxs.append(np.max(r2_scores))\n",
        "  \n",
        "  # Append RMSE scores\n",
        "  rmse_means.append(np.mean(rmse_scores))\n",
        "  rmse_stds.append(np.std(rmse_scores))\n",
        "  rmse_mins.append(np.min(rmse_scores))\n",
        "  rmse_maxs.append(np.max(rmse_scores))\n",
        "\n",
        "# Plot R^2 scores per k-fold:\n",
        "fig2 = plt.figure(figsize=(15, 10))\n",
        "ax1 = fig2.add_subplot(2, 2, 1)\n",
        "ax1.plot(np.arange(1,11), r2_means, color='red', label='Mean')\n",
        "ax1.plot(np.arange(1,11), r2_mins, color='green', label='Min')\n",
        "ax1.plot(np.arange(1,11), r2_maxs, color='blue', label='Max')\n",
        "ax1.set_xlabel('k-Fold', fontsize=12)\n",
        "ax1.set_ylabel('R^2 Score', fontsize=12)\n",
        "ax1.set_title('R^2 Score per k-Fold', fontsize=14)\n",
        "ax1.legend()\n",
        "ax1.grid(True)\n",
        "\n",
        "# Plot R^2 Standard Deviations per k-fold:\n",
        "ax2 = fig2.add_subplot(2, 2, 2)\n",
        "ax2.plot(np.arange(1,11), r2_stds, color='red')\n",
        "ax2.set_xlabel('k-Fold', fontsize=12)\n",
        "ax2.set_ylabel('Standard Deviation (+/-)', fontsize=12)\n",
        "ax2.set_title('R^2 Standard Deviation per k-fold', fontsize=14)\n",
        "ax2.grid(True)\n",
        "\n",
        "# Plot RMSE scores per k-fold:\n",
        "ax3 = fig2.add_subplot(2, 2, 3)\n",
        "ax3.plot(np.arange(1,11), rmse_means, color='orangered', label='Mean')\n",
        "ax3.plot(np.arange(1,11), rmse_mins, color='green', label='Min')\n",
        "ax3.plot(np.arange(1,11), rmse_maxs, color='blue', label='Max')\n",
        "ax3.set_xlabel('k-Fold', fontsize=12)\n",
        "ax3.set_ylabel('RMSE Score', fontsize=12)\n",
        "ax3.set_title('RMSE Score per k-Fold', fontsize=14)\n",
        "ax3.legend()\n",
        "ax3.grid(True)\n",
        "\n",
        "# Plot RMSE Standard Deviations per k-fold:\n",
        "ax4 = fig2.add_subplot(2, 2, 4)\n",
        "ax4.plot(np.arange(1,11), rmse_stds, color='orangered')\n",
        "ax4.set_xlabel('k-Fold', fontsize=12)\n",
        "ax4.set_ylabel('Standard Deviation (+/-)', fontsize=12)\n",
        "ax4.set_title('RMSE Standard Deviation per k-fold', fontsize=14)\n",
        "ax4.grid(True)\n",
        "\n",
        "# Show subplot\n",
        "plt.show()"
      ],
      "execution_count": 17,
      "outputs": [
        {
          "output_type": "stream",
          "text": [
            "\n",
            "-- Fold: 1 --\n",
            "\n",
            "R^2 Scoring:\n",
            "Mean: 0.996039\n",
            "Std: +/- 0.000120\n",
            "Min: 0.995786\n",
            "Max: 0.996282\n",
            "\n",
            "RMSE Scoring:\n",
            "Mean: 0.980098\n",
            "Std: +/- 0.013486\n",
            "Min: 0.947029\n",
            "Max: 1.003636\n",
            "\n",
            "\n",
            "-- Fold: 2 --\n",
            "\n",
            "R^2 Scoring:\n",
            "Mean: 0.996409\n",
            "Std: +/- 0.000073\n",
            "Min: 0.996230\n",
            "Max: 0.996577\n",
            "\n",
            "RMSE Scoring:\n",
            "Mean: 0.933204\n",
            "Std: +/- 0.009271\n",
            "Min: 0.914368\n",
            "Max: 0.952053\n",
            "\n",
            "\n",
            "-- Fold: 3 --\n",
            "\n",
            "R^2 Scoring:\n",
            "Mean: 0.996509\n",
            "Std: +/- 0.000126\n",
            "Min: 0.996180\n",
            "Max: 0.996757\n",
            "\n",
            "RMSE Scoring:\n",
            "Mean: 0.919944\n",
            "Std: +/- 0.016147\n",
            "Min: 0.879704\n",
            "Max: 0.959577\n",
            "\n",
            "\n",
            "-- Fold: 4 --\n",
            "\n",
            "R^2 Scoring:\n",
            "Mean: 0.996593\n",
            "Std: +/- 0.000122\n",
            "Min: 0.996317\n",
            "Max: 0.996894\n",
            "\n",
            "RMSE Scoring:\n",
            "Mean: 0.908802\n",
            "Std: +/- 0.015379\n",
            "Min: 0.882217\n",
            "Max: 0.935893\n",
            "\n",
            "\n",
            "-- Fold: 5 --\n",
            "\n",
            "R^2 Scoring:\n",
            "Mean: 0.996643\n",
            "Std: +/- 0.000125\n",
            "Min: 0.996406\n",
            "Max: 0.997058\n",
            "\n",
            "RMSE Scoring:\n",
            "Mean: 0.902087\n",
            "Std: +/- 0.015488\n",
            "Min: 0.852967\n",
            "Max: 0.940192\n",
            "\n",
            "\n",
            "-- Fold: 6 --\n",
            "\n",
            "R^2 Scoring:\n",
            "Mean: 0.996660\n",
            "Std: +/- 0.000132\n",
            "Min: 0.996244\n",
            "Max: 0.996891\n",
            "\n",
            "RMSE Scoring:\n",
            "Mean: 0.899776\n",
            "Std: +/- 0.018582\n",
            "Min: 0.865426\n",
            "Max: 0.945979\n",
            "\n",
            "\n",
            "-- Fold: 7 --\n",
            "\n",
            "R^2 Scoring:\n",
            "Mean: 0.996685\n",
            "Std: +/- 0.000130\n",
            "Min: 0.996391\n",
            "Max: 0.996953\n",
            "\n",
            "RMSE Scoring:\n",
            "Mean: 0.896391\n",
            "Std: +/- 0.017304\n",
            "Min: 0.854335\n",
            "Max: 0.953868\n",
            "\n",
            "\n",
            "-- Fold: 8 --\n",
            "\n",
            "R^2 Scoring:\n",
            "Mean: 0.996702\n",
            "Std: +/- 0.000153\n",
            "Min: 0.996253\n",
            "Max: 0.997060\n",
            "\n",
            "RMSE Scoring:\n",
            "Mean: 0.893994\n",
            "Std: +/- 0.019658\n",
            "Min: 0.842507\n",
            "Max: 0.975711\n",
            "\n",
            "\n",
            "-- Fold: 9 --\n",
            "\n",
            "R^2 Scoring:\n",
            "Mean: 0.996722\n",
            "Std: +/- 0.000183\n",
            "Min: 0.996198\n",
            "Max: 0.997256\n",
            "\n",
            "RMSE Scoring:\n",
            "Mean: 0.891073\n",
            "Std: +/- 0.021653\n",
            "Min: 0.836583\n",
            "Max: 0.950511\n",
            "\n",
            "\n",
            "-- Fold: 10 --\n",
            "\n",
            "R^2 Scoring:\n",
            "Mean: 0.996720\n",
            "Std: +/- 0.000181\n",
            "Min: 0.996117\n",
            "Max: 0.997093\n",
            "\n",
            "RMSE Scoring:\n",
            "Mean: 0.891383\n",
            "Std: +/- 0.022316\n",
            "Min: 0.835600\n",
            "Max: 0.960499\n",
            "\n"
          ],
          "name": "stdout"
        },
        {
          "output_type": "display_data",
          "data": {
            "image/png": "[encoded data removed]",
            "text/plain": [
              "<Figure size 1080x720 with 4 Axes>"
            ]
          },
          "metadata": {
            "tags": [],
            "needs_background": "light"
          }
        }
      ]
    },
    {
      "cell_type": "markdown",
      "metadata": {
        "id": "QFJ-AJOcm7fP"
      },
      "source": [
        "<table border = \"1\">\n",
        "  <thead>\n",
        "    <th colspan = \"3\">Decision Tree Cross-Validation Results</th>\n",
        "  </thead>\n",
        "  <tbody>\n",
        "    <tr>\n",
        "      <td><b></b></td>\n",
        "      <td><b>R^2</b></td>\n",
        "      <td><b>RMSE</b></td>\n",
        "    </tr>\n",
        "    <tr>\n",
        "      <td><b>Mean</b></td>\n",
        "      <td>0.997</td>\n",
        "      <td>0.891</td>\n",
        "    </tr>\n",
        "    <tr>\n",
        "      <td><b>Std.</b></td>\n",
        "      <td>0.0002</td>\n",
        "      <td>0.022</td>\n",
        "    </tr>\n",
        "    <tr>\n",
        "      <td><b>Min</b></td>\n",
        "      <td>0.996</td>\n",
        "      <td>0.836</td>\n",
        "    </tr>\n",
        "    <tr>\n",
        "      <td><b>Max</b></td>\n",
        "      <td>0.997</td>\n",
        "      <td>0.961</td>\n",
        "    </tr>\n",
        "  </tbody>\n",
        "</table>"
      ]
    },
    {
      "cell_type": "code",
      "metadata": {
        "colab": {
          "base_uri": "https://localhost:8080/"
        },
        "id": "Gy5W6MOWmtPv",
        "outputId": "334b723f-c8bd-404e-fcd4-2fc24d3a20b9"
      },
      "source": [
        "# Apply Grid Search for parameter tuning\n",
        "\n",
        "# dt_params = {'criterion': ['mse', 'mae'],\n",
        "#              'max_depth': [10, 25, 50, 75, 100],\n",
        "#              'min_samples_leaf': [2, 5, 8, 10],\n",
        "#              'min_samples_split': [2, 5, 8, 10],\n",
        "#              'max_features': [2, 5, 10, 15, 20, 25],\n",
        "#              'random_state': [0, 1, 2, 42]}\n",
        "\n",
        "dt_params = {'criterion': ['mse'],\n",
        "             'max_depth': [94],\n",
        "             'min_samples_leaf': [6],\n",
        "             'min_samples_split': [11],\n",
        "             'max_features': [10],\n",
        "             'random_state': [0]}\n",
        "\n",
        "# dt_grid = GridSearchCV(dt_reg, dt_params, scoring='neg_mean_absolute_error', cv=cv, n_jobs=-1)\n",
        "# dt_grid = GridSearchCV(dt_reg, dt_params, scoring='neg_mean_squared_error', cv=cv, n_jobs=-1)\n",
        "# dt_grid = GridSearchCV(dt_reg, dt_params, scoring='neg_root_mean_squared_error', cv=cv, n_jobs=-1)\n",
        "dt_grid = GridSearchCV(dt_reg, dt_params, scoring='r2', cv=cv, n_jobs=-1)\n",
        "results = dt_grid.fit(X_train, y_train)\n",
        "\n",
        "# Summarize results\n",
        "best_score = dt_grid.best_score_\n",
        "best_parameters = dt_grid.best_params_\n",
        "print(\"Best Score: %.3f%%\" % (np.abs(best_score * 100)))  # R^2 Scoring\n",
        "# print(\"Best Score: %.3f\" % (np.abs(best_score)))  # RMSE\n",
        "print(\"Best Parameters: \", best_parameters)"
      ],
      "execution_count": 18,
      "outputs": [
        {
          "output_type": "stream",
          "text": [
            "Best Score: 99.672%\n",
            "Best Parameters:  {'criterion': 'mse', 'max_depth': 94, 'max_features': 10, 'min_samples_leaf': 6, 'min_samples_split': 11, 'random_state': 0}\n"
          ],
          "name": "stdout"
        }
      ]
    },
    {
      "cell_type": "markdown",
      "metadata": {
        "id": "KJLWzXhsnCs4"
      },
      "source": [
        "<table border = \"1\">\n",
        "  <thead>\n",
        "    <th colspan = \"2\">Decision Tree Grid Search Results</th>\n",
        "  </thead>\n",
        "  <tbody>\n",
        "    <tr>\n",
        "      <td><b>Best Score</b></td>\n",
        "      <td>99.672%</td>\n",
        "    </tr>\n",
        "    <tr>\n",
        "      <td colspan=\"2\"><b>Best Parameters:</b></td>\n",
        "    </tr>\n",
        "    <tr>\n",
        "      <td><b>criterion</b></td>\n",
        "      <td>'mse'</td>\n",
        "    </tr>\n",
        "    <tr>\n",
        "      <td><b>max_depth</b></td>\n",
        "      <td>94</td>\n",
        "    </tr>\n",
        "    <tr>\n",
        "      <td><b>max_features</b></td>\n",
        "      <td>10</td>\n",
        "    </tr>\n",
        "    <tr>\n",
        "      <td><b>min_samples_leaf</b></td>\n",
        "      <td>6</td>\n",
        "    </tr>\n",
        "    <tr>\n",
        "      <td><b>min_samples_split</b></td>\n",
        "      <td>11</td>\n",
        "    </tr>\n",
        "    <tr>\n",
        "      <td><b>random_state</b></td>\n",
        "      <td>0</td>\n",
        "    </tr>\n",
        "  </tbody>\n",
        "</table>"
      ]
    },
    {
      "cell_type": "markdown",
      "metadata": {
        "id": "i3e1porpkdGO"
      },
      "source": [
        "### LightGBM (LGB)"
      ]
    },
    {
      "cell_type": "code",
      "metadata": {
        "colab": {
          "base_uri": "https://localhost:8080/"
        },
        "id": "cTjcGEIxqBI_",
        "outputId": "3f66d8ae-0c07-4425-ece7-bf903e76fbc6"
      },
      "source": [
        "lgb_reg = LGBMRegressor(max_depth=19, n_estimators=100, learning_rate=0.1, \n",
        "                        reg_alpha=0.5, reg_lambda=0.45, random_state=0)\n",
        "\n",
        "lgb_reg.fit(X_train, y_train)"
      ],
      "execution_count": 19,
      "outputs": [
        {
          "output_type": "execute_result",
          "data": {
            "text/plain": [
              "LGBMRegressor(boosting_type='gbdt', class_weight=None, colsample_bytree=1.0,\n",
              "              importance_type='split', learning_rate=0.1, max_depth=19,\n",
              "              min_child_samples=20, min_child_weight=0.001, min_split_gain=0.0,\n",
              "              n_estimators=100, n_jobs=-1, num_leaves=31, objective=None,\n",
              "              random_state=0, reg_alpha=0.5, reg_lambda=0.45, silent=True,\n",
              "              subsample=1.0, subsample_for_bin=200000, subsample_freq=0)"
            ]
          },
          "metadata": {
            "tags": []
          },
          "execution_count": 19
        }
      ]
    },
    {
      "cell_type": "code",
      "metadata": {
        "colab": {
          "base_uri": "https://localhost:8080/"
        },
        "id": "TlmpHXunqD43",
        "outputId": "e84542bb-cd53-4107-aa01-f3bc141679d4"
      },
      "source": [
        "# Predict test set results\n",
        "lgb_pred = lgb_reg.predict(X_test)\n",
        "np.set_printoptions(precision = 2)\n",
        "print(np.concatenate((lgb_pred.reshape(len(lgb_pred), 1), y_test.reshape(len(y_test), 1)), 1 ))\n",
        "print('')\n",
        "\n",
        "# Summarize results\n",
        "print('MAE: %.3f' % (mean_absolute_error(y_test, lgb_pred)))\n",
        "print('MSE: %.3f' % (mean_squared_error(y_test, lgb_pred)))\n",
        "print('RMSE: %.3f' % (mean_squared_error(y_test, lgb_pred, squared=False)))\n",
        "print('R^2 Score: %.3f' % (r2_score(y_test, lgb_pred)))"
      ],
      "execution_count": 20,
      "outputs": [
        {
          "output_type": "stream",
          "text": [
            "[[126.76 126.81]\n",
            " [121.9  122.67]\n",
            " [151.55 152.8 ]\n",
            " ...\n",
            " [132.47 132.22]\n",
            " [133.43 132.83]\n",
            " [149.92 150.23]]\n",
            "\n",
            "MAE: 0.577\n",
            "MSE: 0.580\n",
            "RMSE: 0.761\n",
            "R^2 Score: 0.998\n"
          ],
          "name": "stdout"
        }
      ]
    },
    {
      "cell_type": "markdown",
      "metadata": {
        "id": "c1V0ohAWj5kN"
      },
      "source": [
        "<table border = \"1\">\n",
        "  <thead>\n",
        "    <th colspan = \"5\">LightGBM Prediction Scores</th>\n",
        "  </thead>\n",
        "  <tbody>\n",
        "    <tr>\n",
        "      <td><b>MAE:<b></td>\n",
        "      <td>0.577</td>\n",
        "    </tr>\n",
        "    <tr>\n",
        "      <td><b>MSE:<b></td>\n",
        "      <td>0.580</td>\n",
        "    </tr>\n",
        "    <tr>\n",
        "      <td><b>RMSE:<b></td>\n",
        "      <td>0.761</td>\n",
        "    </tr>\n",
        "    <tr>\n",
        "      <td><b>R^2:<b></td>\n",
        "      <td>0.998</td>\n",
        "    </tr>\n",
        "  </tbody>\n",
        "</table>"
      ]
    },
    {
      "cell_type": "code",
      "metadata": {
        "colab": {
          "base_uri": "https://localhost:8080/",
          "height": 339
        },
        "id": "maStpdP7j9Xl",
        "outputId": "ec3a4578-0c6c-4b52-e7c4-7baf2a5ecab6"
      },
      "source": [
        "# Plot histogram for lgb_pred\n",
        "fig1 = plt.figure(figsize=(15, 6))\n",
        "ax1 = fig1.add_subplot(1, 2, 1)\n",
        "plt.xticks(np.arange(0, 200, 10))\n",
        "plt.yticks(np.arange(0, 3000, 200))\n",
        "plt.hist(x=lgb_pred, facecolor='deepskyblue', alpha=0.6, edgecolor='black')\n",
        "plt.xlabel('Turbine Energy Yield (MWH)', fontsize=12)\n",
        "plt.ylabel('Number of Instances', fontsize=12)\n",
        "plt.title('Predicted Turbine Energy Yield', fontsize=14)\n",
        "\n",
        "# Plot histogram for y_test\n",
        "ax1 = fig1.add_subplot(1, 2, 2)\n",
        "plt.xticks(np.arange(0, 200, 10))\n",
        "plt.yticks(np.arange(0, 3000, 200))\n",
        "plt.hist(x=y_test, facecolor='orange', alpha=0.6, edgecolor='black')\n",
        "plt.xlabel('Turbine Energy Yield (MWH)', fontsize=12)\n",
        "plt.ylabel('Number of Instances', fontsize=12)\n",
        "plt.title('Validation Turbine Energy Yield', fontsize=14)\n",
        "\n",
        "# Show subplot\n",
        "plt.show()"
      ],
      "execution_count": 21,
      "outputs": [
        {
          "output_type": "display_data",
          "data": {
            "image/png": "[encoded data removed]",
            "text/plain": [
              "<Figure size 1080x432 with 2 Axes>"
            ]
          },
          "metadata": {
            "tags": [],
            "needs_background": "light"
          }
        }
      ]
    },
    {
      "cell_type": "code",
      "metadata": {
        "colab": {
          "base_uri": "https://localhost:8080/",
          "height": 1000
        },
        "id": "qbdQIQeAqF30",
        "outputId": "871415ce-8596-4e2e-ceaf-0b19437e98f7"
      },
      "source": [
        "# Apply k-Fold Cross Validation on the training set\n",
        "\n",
        "# Lists of values\n",
        "r2_means, r2_stds, r2_mins, r2_maxs = [], [], [], []  # R^2 Scoring\n",
        "rmse_means, rmse_stds, rmse_mins, rmse_maxs = [], [], [], []  # RMSE Scoring\n",
        "# Cross validate for 10 k-folds, each with 3 repeats\n",
        "for k in range(2, 12):\n",
        "  cv = RepeatedKFold(n_splits = k, random_state = 0)\n",
        "  r2_scores = cross_val_score(lgb_reg, X_train, y_train, scoring='r2', cv=cv, n_jobs=-1)\n",
        "  # scores = cross_val_score(lgb_pred, X_train, y_train, scoring='neg_mean_absolute_error', cv=cv, n_jobs=-1)\n",
        "  # scores = cross_val_score(lgb_pred, X_train, y_train, scoring='neg_mean_squared_error', cv=cv, n_jobs=-1)\n",
        "  rmse_scores = cross_val_score(lgb_reg, X_train, y_train, scoring='neg_root_mean_squared_error', cv=cv, n_jobs=-1)\n",
        "  \n",
        "  # Force scores to be positive\n",
        "  r2_scores = abs(r2_scores)\n",
        "  rmse_scores = abs(rmse_scores)\n",
        "\n",
        "  # Print values\n",
        "  print('')\n",
        "  print('-- Fold: %d --' % (k-1))\n",
        "  print('')\n",
        "  print('R^2 Scoring:')\n",
        "  print(\"Mean: %f\" % (np.mean(r2_scores)))\n",
        "  print(\"Std: +/- %f\" % (np.std(r2_scores)))\n",
        "  print(\"Min: %f\" % (np.min(r2_scores)))\n",
        "  print(\"Max: %f\" % (np.max(r2_scores)))\n",
        "  \n",
        "  print('')\n",
        "  print('RMSE Scoring:')\n",
        "  print(\"Mean: %f\" % (np.mean(rmse_scores)))\n",
        "  print(\"Std: +/- %f\" % (np.std(rmse_scores)))\n",
        "  print(\"Min: %f\" % (np.min(rmse_scores)))\n",
        "  print(\"Max: %f\" % (np.max(rmse_scores)))\n",
        "  print('')\n",
        "  \n",
        "  # Append R^2 scores\n",
        "  r2_means.append(np.mean(r2_scores))\n",
        "  r2_stds.append(np.std(r2_scores))\n",
        "  r2_mins.append(np.min(r2_scores))\n",
        "  r2_maxs.append(np.max(r2_scores))\n",
        "  \n",
        "  # Append RMSE scores\n",
        "  rmse_means.append(np.mean(rmse_scores))\n",
        "  rmse_stds.append(np.std(rmse_scores))\n",
        "  rmse_mins.append(np.min(rmse_scores))\n",
        "  rmse_maxs.append(np.max(rmse_scores))\n",
        "\n",
        "# Plot R^2 scores per k-fold:\n",
        "fig2 = plt.figure(figsize=(15, 10))\n",
        "ax1 = fig2.add_subplot(2, 2, 1)\n",
        "ax1.plot(np.arange(1,11), r2_means, color='red', label='Mean')\n",
        "ax1.plot(np.arange(1,11), r2_mins, color='green', label='Min')\n",
        "ax1.plot(np.arange(1,11), r2_maxs, color='blue', label='Max')\n",
        "ax1.set_xlabel('k-Fold', fontsize=12)\n",
        "ax1.set_ylabel('R^2 Score', fontsize=12)\n",
        "ax1.set_title('R^2 Score per k-Fold', fontsize=14)\n",
        "ax1.legend()\n",
        "ax1.grid(True)\n",
        "\n",
        "# Plot R^2 Standard Deviations per k-fold:\n",
        "ax2 = fig2.add_subplot(2, 2, 2)\n",
        "ax2.plot(np.arange(1,11), r2_stds, color='red')\n",
        "ax2.set_xlabel('k-Fold', fontsize=12)\n",
        "ax2.set_ylabel('Standard Deviation (+/-)', fontsize=12)\n",
        "ax2.set_title('R^2 Standard Deviation per k-fold', fontsize=14)\n",
        "ax2.grid(True)\n",
        "\n",
        "# Plot RMSE scores per k-fold:\n",
        "ax3 = fig2.add_subplot(2, 2, 3)\n",
        "ax3.plot(np.arange(1,11), rmse_means, color='orangered', label='Mean')\n",
        "ax3.plot(np.arange(1,11), rmse_mins, color='green', label='Min')\n",
        "ax3.plot(np.arange(1,11), rmse_maxs, color='blue', label='Max')\n",
        "ax3.set_xlabel('k-Fold', fontsize=12)\n",
        "ax3.set_ylabel('RMSE Score', fontsize=12)\n",
        "ax3.set_title('RMSE Score per k-Fold', fontsize=14)\n",
        "ax3.legend()\n",
        "ax3.grid(True)\n",
        "\n",
        "# Plot RMSE Standard Deviations per k-fold:\n",
        "ax4 = fig2.add_subplot(2, 2, 4)\n",
        "ax4.plot(np.arange(1,11), rmse_stds, color='orangered')\n",
        "ax4.set_xlabel('k-Fold', fontsize=12)\n",
        "ax4.set_ylabel('Standard Deviation (+/-)', fontsize=12)\n",
        "ax4.set_title('RMSE Standard Deviation per k-fold', fontsize=14)\n",
        "ax4.grid(True)\n",
        "\n",
        "# Show subplot\n",
        "plt.show()"
      ],
      "execution_count": 22,
      "outputs": [
        {
          "output_type": "stream",
          "text": [
            "\n",
            "-- Fold: 1 --\n",
            "\n",
            "R^2 Scoring:\n",
            "Mean: 0.997810\n",
            "Std: +/- 0.000040\n",
            "Min: 0.997694\n",
            "Max: 0.997885\n",
            "\n",
            "RMSE Scoring:\n",
            "Mean: 0.728824\n",
            "Std: +/- 0.006453\n",
            "Min: 0.713996\n",
            "Max: 0.742410\n",
            "\n",
            "\n",
            "-- Fold: 2 --\n",
            "\n",
            "R^2 Scoring:\n",
            "Mean: 0.997883\n",
            "Std: +/- 0.000041\n",
            "Min: 0.997793\n",
            "Max: 0.997958\n",
            "\n",
            "RMSE Scoring:\n",
            "Mean: 0.716486\n",
            "Std: +/- 0.007293\n",
            "Min: 0.697914\n",
            "Max: 0.728183\n",
            "\n",
            "\n",
            "-- Fold: 3 --\n",
            "\n",
            "R^2 Scoring:\n",
            "Mean: 0.997901\n",
            "Std: +/- 0.000044\n",
            "Min: 0.997830\n",
            "Max: 0.998000\n",
            "\n",
            "RMSE Scoring:\n",
            "Mean: 0.713445\n",
            "Std: +/- 0.007408\n",
            "Min: 0.697265\n",
            "Max: 0.729206\n",
            "\n",
            "\n",
            "-- Fold: 4 --\n",
            "\n",
            "R^2 Scoring:\n",
            "Mean: 0.997914\n",
            "Std: +/- 0.000055\n",
            "Min: 0.997794\n",
            "Max: 0.998029\n",
            "\n",
            "RMSE Scoring:\n",
            "Mean: 0.711191\n",
            "Std: +/- 0.009286\n",
            "Min: 0.693907\n",
            "Max: 0.731207\n",
            "\n",
            "\n",
            "-- Fold: 5 --\n",
            "\n",
            "R^2 Scoring:\n",
            "Mean: 0.997917\n",
            "Std: +/- 0.000059\n",
            "Min: 0.997793\n",
            "Max: 0.998095\n",
            "\n",
            "RMSE Scoring:\n",
            "Mean: 0.710600\n",
            "Std: +/- 0.009604\n",
            "Min: 0.689415\n",
            "Max: 0.737821\n",
            "\n",
            "\n",
            "-- Fold: 6 --\n",
            "\n",
            "R^2 Scoring:\n",
            "Mean: 0.997928\n",
            "Std: +/- 0.000068\n",
            "Min: 0.997764\n",
            "Max: 0.998107\n",
            "\n",
            "RMSE Scoring:\n",
            "Mean: 0.708707\n",
            "Std: +/- 0.011455\n",
            "Min: 0.678848\n",
            "Max: 0.743496\n",
            "\n",
            "\n",
            "-- Fold: 7 --\n",
            "\n",
            "R^2 Scoring:\n",
            "Mean: 0.997926\n",
            "Std: +/- 0.000073\n",
            "Min: 0.997782\n",
            "Max: 0.998100\n",
            "\n",
            "RMSE Scoring:\n",
            "Mean: 0.708945\n",
            "Std: +/- 0.011778\n",
            "Min: 0.684250\n",
            "Max: 0.745685\n",
            "\n",
            "\n",
            "-- Fold: 8 --\n",
            "\n",
            "R^2 Scoring:\n",
            "Mean: 0.997929\n",
            "Std: +/- 0.000076\n",
            "Min: 0.997768\n",
            "Max: 0.998084\n",
            "\n",
            "RMSE Scoring:\n",
            "Mean: 0.708447\n",
            "Std: +/- 0.012054\n",
            "Min: 0.679283\n",
            "Max: 0.745761\n",
            "\n",
            "\n",
            "-- Fold: 9 --\n",
            "\n",
            "R^2 Scoring:\n",
            "Mean: 0.997928\n",
            "Std: +/- 0.000094\n",
            "Min: 0.997732\n",
            "Max: 0.998159\n",
            "\n",
            "RMSE Scoring:\n",
            "Mean: 0.708590\n",
            "Std: +/- 0.014764\n",
            "Min: 0.670747\n",
            "Max: 0.742419\n",
            "\n",
            "\n",
            "-- Fold: 10 --\n",
            "\n",
            "R^2 Scoring:\n",
            "Mean: 0.997932\n",
            "Std: +/- 0.000088\n",
            "Min: 0.997745\n",
            "Max: 0.998159\n",
            "\n",
            "RMSE Scoring:\n",
            "Mean: 0.707794\n",
            "Std: +/- 0.013778\n",
            "Min: 0.669115\n",
            "Max: 0.746054\n",
            "\n"
          ],
          "name": "stdout"
        },
        {
          "output_type": "display_data",
          "data": {
            "image/png": "[encoded data removed]",
            "text/plain": [
              "<Figure size 1080x720 with 4 Axes>"
            ]
          },
          "metadata": {
            "tags": [],
            "needs_background": "light"
          }
        }
      ]
    },
    {
      "cell_type": "markdown",
      "metadata": {
        "id": "Vov8NBqgqHc7"
      },
      "source": [
        "<table border = \"1\">\n",
        "  <thead>\n",
        "    <th colspan = \"3\">LightGBM Cross-Validation Results</th>\n",
        "  </thead>\n",
        "  <tbody>\n",
        "    <tr>\n",
        "      <td><b></b></td>\n",
        "      <td><b>R^2</b></td>\n",
        "      <td><b>RMSE</b></td>\n",
        "    </tr>\n",
        "    <tr>\n",
        "      <td><b>Mean</b></td>\n",
        "      <td>0.998</td>\n",
        "      <td>0.708</td>\n",
        "    </tr>\n",
        "    <tr>\n",
        "      <td><b>Std.</b></td>\n",
        "      <td>0.0001</td>\n",
        "      <td>0.014</td>\n",
        "    </tr>\n",
        "    <tr>\n",
        "      <td><b>Min</b></td>\n",
        "      <td>0.998</td>\n",
        "      <td>0.669</td>\n",
        "    </tr>\n",
        "    <tr>\n",
        "      <td><b>Max</b></td>\n",
        "      <td>0.998</td>\n",
        "      <td>0.746</td>\n",
        "    </tr>\n",
        "  </tbody>\n",
        "</table>"
      ]
    },
    {
      "cell_type": "code",
      "metadata": {
        "colab": {
          "base_uri": "https://localhost:8080/"
        },
        "id": "Hv4sgUZEqLfQ",
        "outputId": "72826feb-d012-490c-b7d4-b321b69ef5eb"
      },
      "source": [
        "# Apply Grid Search for parameter tuning\n",
        "\n",
        "# param_dict = {'max_depth': [10, 25, 50, 75, 100],\n",
        "#               'n_estimators': [50, 100, 150, 200, 250],\n",
        "#               'learning_rate': [0.01, 0.05, 0.1, 0.15],\n",
        "#               'colsample_bytree': [0.2, 0.4, 0.6, 0.8, 1],\n",
        "#               'num_leaves': [1, 5, 10, 20],\n",
        "#               'min_split_gain': [2, 5, 10],\n",
        "#               'reg_alpha': [0.5, 1, 1.5, 2, 5, 10],\n",
        "#               'reg_lambda': [0.5, 1, 1.5, 2, 5, 10],\n",
        "#               'subsample': [1, 1.5, 2, 5, 10],\n",
        "#               'subsample_freq': [5, 10, 15, 20, 25],\n",
        "#               'random_state': [0, 1, 2, 5, 42]}\n",
        "\n",
        "lgb_params = {'max_depth': [19],\n",
        "              'n_estimators': [100],\n",
        "              'learning_rate': [0.1],\n",
        "              'reg_alpha': [0.5],\n",
        "              'reg_lambda': [0.45],\n",
        "              'random_state': [0]}\n",
        "\n",
        "# lgb_grid = GridSearchCV(lgb_reg, param_dict, scoring='neg_mean_absolute_error', cv=cv, n_jobs=-1)\n",
        "# lgb_grid = GridSearchCV(lgb_reg, param_dict, scoring='neg_mean_squared_error', cv=cv, n_jobs=-1)\n",
        "# lgb_grid = GridSearchCV(lgb_reg, param_dict, scoring='neg_root_mean_squared_error', cv=cv, n_jobs=-1)\n",
        "lgb_grid = GridSearchCV(lgb_reg, lgb_params, scoring='r2', cv=cv, n_jobs=-1)\n",
        "results = lgb_grid.fit(X_train, y_train)\n",
        "\n",
        "# Summarize results\n",
        "best_score = lgb_grid.best_score_\n",
        "best_parameters = lgb_grid.best_params_\n",
        "print(\"Best Score: %.3f%%\" % (np.abs(best_score * 100)))  # R^2 Scoring\n",
        "# print(\"Best Score: %.3f\" % (np.abs(best_score)))  # RMSE\n",
        "print(\"Best Parameters: \", best_parameters)"
      ],
      "execution_count": 23,
      "outputs": [
        {
          "output_type": "stream",
          "text": [
            "Best Score: 99.793%\n",
            "Best Parameters:  {'learning_rate': 0.1, 'max_depth': 19, 'n_estimators': 100, 'random_state': 0, 'reg_alpha': 0.5, 'reg_lambda': 0.45}\n"
          ],
          "name": "stdout"
        }
      ]
    },
    {
      "cell_type": "markdown",
      "metadata": {
        "id": "_jPd0w9SqPG7"
      },
      "source": [
        "<table border = \"1\">\n",
        "  <thead>\n",
        "    <th colspan = \"2\">LightGBM Grid Search Results</th>\n",
        "  </thead>\n",
        "  <tbody>\n",
        "    <tr>\n",
        "      <td><b>Best Score</b></td>\n",
        "      <td>99.793%</td>\n",
        "    </tr>\n",
        "    <tr>\n",
        "      <td colspan=\"2\"><b>Best Parameters:</b></td>\n",
        "    </tr>\n",
        "    <tr>\n",
        "      <td><b>learning_rate</b></td>\n",
        "      <td>0.1 (default)</td>\n",
        "    </tr>\n",
        "    <tr>\n",
        "      <td><b>max_depth</b></td>\n",
        "      <td>19</td>\n",
        "    </tr>\n",
        "    <tr>\n",
        "      <td><b>n_estimators</b></td>\n",
        "      <td>100 (default)</td>\n",
        "    </tr>\n",
        "    <tr>\n",
        "      <td><b>random_state</b></td>\n",
        "      <td>0</td>\n",
        "    </tr>\n",
        "    <tr>\n",
        "      <td><b>reg_alpha</b></td>\n",
        "      <td>0.5</td>\n",
        "    </tr>\n",
        "    <tr>\n",
        "      <td><b>reg_lambda</b></td>\n",
        "      <td>0.45</td>\n",
        "    </tr>\n",
        "  </tbody>\n",
        "</table>"
      ]
    },
    {
      "cell_type": "markdown",
      "metadata": {
        "id": "R91HskYKawd1"
      },
      "source": [
        "## 5. Final Results"
      ]
    },
    {
      "cell_type": "markdown",
      "metadata": {
        "id": "IJsl2nDTqYT2"
      },
      "source": [
        "<table border = \"1\">\n",
        "  <thead>\n",
        "    <th colspan = \"5\">Final Regression Scores</th>\n",
        "  </thead>\n",
        "  <tbody>\n",
        "    <tr>\n",
        "      <td><b>Model</b></td>\n",
        "      <td colspan='2'><b>R^2</b></td>\n",
        "      <td colspan='2'><b>RMSE</b></td>\n",
        "    </tr>\n",
        "    <tr>\n",
        "      <td><b></b></td>\n",
        "      <td><b>CV</b></td>\n",
        "      <td><b>Val.</b></td>\n",
        "      <td><b>CV</b></td>\n",
        "      <td><b>Val.</b></td>\n",
        "    </tr> \n",
        "    <tr>\n",
        "      <td><b>Linear Regression (LR)</b></td>\n",
        "      <td>0.996</td>\n",
        "      <td>0.996</td>\n",
        "      <td>0.952</td>\n",
        "      <td>1.000</td>\n",
        "    </tr>\n",
        "    <tr>\n",
        "      <td><b>Decision Tree (DT)</b></td>\n",
        "      <td>0.997</td>\n",
        "      <td>0.997</td>\n",
        "      <td>0.891</td>\n",
        "      <td>0.896</td>\n",
        "    </tr>\n",
        "    <tr>\n",
        "      <td><b>LightGBM (LGB)</b></td>\n",
        "      <td>0.998</td>\n",
        "      <td>0.998</td>\n",
        "      <td>0.708</td>\n",
        "      <td>0.761</td>\n",
        "    </tr>\n",
        "  </tbody>\n",
        "</table>"
      ]
    }
  ]
}